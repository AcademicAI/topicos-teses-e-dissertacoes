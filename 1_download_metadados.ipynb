{
  "nbformat": 4,
  "nbformat_minor": 0,
  "metadata": {
    "colab": {
      "name": "1-download metadados.ipynb",
      "provenance": [],
      "collapsed_sections": [
        "eFZi2zKwFWrf",
        "MF-7XB8ZhsbR"
      ]
    },
    "kernelspec": {
      "name": "python3",
      "display_name": "Python 3"
    },
    "language_info": {
      "name": "python"
    }
  },
  "cells": [
    {
      "cell_type": "markdown",
      "metadata": {
        "id": "fpSB0CRZAVRH"
      },
      "source": [
        "<h1 align=\"center\">\n",
        " Download dos Metadados do Catálogo de Teses e Dissertações <br/>\n",
        " <img src=\"https://dadosabertos.capes.gov.br/img/caixa.png\"  alt=\"Dados Capes\"/>\n",
        "</h1>\n",
        "\n",
        "No portal de dados abertos da *CAPES*, há dados sobre os procedimentos realizados e informações sobre os programas de pós-graduação do Brasil. Parte dos dados são fornecidos por coordenadores desses programas através do módulo **Coleta CAPES** disponível na [Plataforma Sucupira](https://sucupira.capes.gov.br/sucupira/).\n",
        "\n",
        "Dentre esses dados, estamos interessados no **Catálogo de Teses e Dissertações** que contém informações sobre as teses e dissertações defendidas nos programas de pós-graduação. No portal, há três conjuntos que contemplam informações sobre essas produções dividida em períodos de tempos sendo eles: \n",
        "\n",
        "- [[1987 a 2012] Catálogo de Teses e Dissertações - Brasil](https://dadosabertos.capes.gov.br/dataset/1987-a-2012-catalogo-de-teses-e-dissertacoes-brasil)\n",
        "- [[2013 a 2016] Catálogo de Teses e Dissertações - Brasil](https://dadosabertos.capes.gov.br/dataset/catalogo-de-teses-e-dissertacoes-de-2013-a-2016)\n",
        "- [[2017 a 2019] Catálogo de Teses e Dissertações - Brasil](https://dadosabertos.capes.gov.br/dataset/2018-catalogo-de-teses-e-dissertacoes-da-capes)\n",
        "\n",
        "Nosso objetivo é realizar o download dessas tabelas, unir e padronizar as colunas de dados em comum. "
      ]
    },
    {
      "cell_type": "markdown",
      "metadata": {
        "id": "61d-83CxEYVZ"
      },
      "source": [
        "## Acessando os dados\n",
        "\n",
        "Para obter a lista de conjuntos do portal de dados abertos da **CAPES** relacionada ao catálogo de teses e dissertações, podemos consultar a API do CKAN filtrando pelo termo de busca `catalogo-de-teses-e-dissertacoes`:\n",
        "\n",
        "```\n",
        "curl https://dadosabertos.capes.gov.br/api/3/action/package_search?q=catalogo-de-teses-e-dissertacoes\n",
        "```\n",
        "Nessa consulta obtivemos um json contendo 3 resultados representando os conjuntos de teses e dissertações disponíveis no website.\n",
        "\n",
        "Para compreender mais como usar o *CKAN API*, acesse o [API guide](https://docs.ckan.org/en/2.9/api/index.html)."
      ]
    },
    {
      "cell_type": "code",
      "metadata": {
        "id": "Yai0TD5II4jN"
      },
      "source": [
        "# bibliotecas utilizadas\n",
        "import shutil \n",
        "import requests\n",
        "import json\n",
        "import os\n",
        "import pandas as pd\n",
        "\n",
        "# diretório onde será salvo os dados\n",
        "workdir = \"catalogo-de-teses-e-dissertacoes\"\n",
        "\n",
        "# cria pastas que conterão os arquivos CSVs\n",
        "os.makedirs(workdir, exist_ok=True)"
      ],
      "execution_count": 1,
      "outputs": []
    },
    {
      "cell_type": "markdown",
      "metadata": {
        "id": "eFZi2zKwFWrf"
      },
      "source": [
        "### Download dos dados\n",
        "\n",
        "Para acessar a resposta da _CKAN API_ utilizamos a biblioteca `requests` e extraímos a variável _result_."
      ]
    },
    {
      "cell_type": "code",
      "metadata": {
        "id": "_TZlH8-BI9Ea"
      },
      "source": [
        "# conjunto de dados que queremos\n",
        "payload = {\"q\": \"catalogo-de-teses-e-dissertacoes\"}\n",
        "\n",
        "# realizar a requisição HTTP\n",
        "response = requests.get(\n",
        "    \"https://dadosabertos.capes.gov.br/api/3/action/package_search?\",\n",
        "    params=payload\n",
        ")\n",
        "\n",
        "# se a requisiçao foi realizada com sucesso (status code = 200)\n",
        "assert response.status_code == requests.codes.ok\n",
        "\n",
        "# atribuir json da resposta a um dicionário\n",
        "response_dict = response.json()\n",
        "\n",
        "# checar o conteúdo da resposta\n",
        "assert response_dict[\"success\"] is True\n",
        "\n",
        "# obter conteúdo retornado\n",
        "result = response_dict[\"result\"]"
      ],
      "execution_count": null,
      "outputs": []
    },
    {
      "cell_type": "markdown",
      "metadata": {
        "id": "50kYSd8yFp-9"
      },
      "source": [
        "No _json_ retornado, estamos interessados na variável _results_ que contém o link para *download* dos recursos. Os dados estão disponíveis em dois formatos CSV e XLS, os metadados estão em PDF e HTML. Desejamos baixar apenas os arquivos CSV, então filtramos por essa informação. "
      ]
    },
    {
      "cell_type": "code",
      "metadata": {
        "id": "LR1hBbzDI_WM"
      },
      "source": [
        "filtered_resources = {}\n",
        "for item in result[\"results\"]: \n",
        "  # obtém apenas os recursos com dado no formato csv\n",
        "  resources_csv = [r for r in item[\"resources\"] if r[\"format\"] == \"CSV\"] \n",
        "  # guarda os recursos de cada conjunto\n",
        "  filtered_resources[item[\"name\"]] = resources_csv\n",
        "\n",
        "print(filtered_resources.keys())\n",
        "\n",
        "# salvar dados sobre os recursos no disco\n",
        "with open(f\"{workdir}/resources.json\", \"w\") as f:\n",
        "  json.dump(filtered_resources, f, indent=4)"
      ],
      "execution_count": null,
      "outputs": []
    },
    {
      "cell_type": "markdown",
      "metadata": {
        "id": "TxI8haEIHs29"
      },
      "source": [
        "Após ter informações sobre os dados baixados podemos os guardar no disco."
      ]
    },
    {
      "cell_type": "code",
      "metadata": {
        "id": "b5m286AUuvJw"
      },
      "source": [
        "# cria pasta para cada conjunto de resultados com base no nome de cada um\n",
        "for current_dir in filtered_resources.keys():\n",
        "  os.makedirs(f\"{workdir}/{current_dir}\", exist_ok=True)\n",
        "  print(f\"Criado o diretório {current_dir}\")\n",
        "\n",
        "# percorre os dados a serem salvos no disco\n",
        "for key, items in filtered_resources.items():\n",
        "  for item in items:\n",
        "    filename = os.path.basename(item[\"url\"]) # define nome do arquivo\n",
        "    download = requests.get(item[\"url\"], stream=True)\n",
        "    # salva arquivo na pasta designada\n",
        "    with open(f\"{workdir}/{key}/{filename}\", \"w\") as output_file:\n",
        "      # escreve 10000 linhas de cada vez\n",
        "      for chunk in download.iter_content(chunk_size=10000, decode_unicode=True):\n",
        "        output_file.write(chunk)\n",
        "      output_file.flush()"
      ],
      "execution_count": null,
      "outputs": []
    },
    {
      "cell_type": "markdown",
      "metadata": {
        "id": "MF-7XB8ZhsbR"
      },
      "source": [
        "### Agrupar dados por conjunto\n",
        "\n",
        "Há três grupos de dados de teses e dissertações como mencionamos no começo desse notebook. Ao analisarmos os metadados contido no portal de dados abertos observamos que os conjuntos de 2013 a 2016 e 2017 a 2019 possuem o mesmo tipo de dados. Com base nisso, vamos agrupar os arquivos CSVs em dois grandes arquivos:\n",
        "\n",
        "- `catalogo-de-teses-e-dissertacoes-de-1987-a-2012.csv` - contempla todos os dados coletados no período de 1987 a 2012\n",
        "- `catalogo-de-teses-e-dissertacoes-de-2013-a-2019.csv` - contempla todos os dados coletados no período de 2013 a 2019\n",
        "\n",
        "O ano base corresponde ao ano que foi realizada a coleta, acessando o portal de dados abertos de um desses dados podemos observar que cada csv é equivalente a um ano:\n",
        "\n",
        "- BR-CAPES-BTD-2017-2018-08-01_2017\n",
        "- BR-CAPES-BTD-2018-2019-09-09_2018\n",
        "- BR-CAPES-BTD-2019-2020-11-20_2019\n",
        "\n",
        "Com o objetivo de preencher os valores faltantes que podem ocorrer nessa coluna usamos a operação `Dataframe.interpolate()`."
      ]
    },
    {
      "cell_type": "code",
      "metadata": {
        "id": "SdtIlLa8JDXE"
      },
      "source": [
        "def merge_files(file_path, output_path):\n",
        "  list_df = []\n",
        "  for path in file_path:\n",
        "    for filename in os.listdir(path):\n",
        "      # carregar arquivo\n",
        "      data = pd.read_csv(os.path.join(path, filename), sep=\";\")\n",
        "      # dados antes de 2013 coluna se chamana AnoBase\n",
        "      if \"AnoBase\" in data:\n",
        "        data[\"ano_base\"] = data[\"AnoBase\"]\n",
        "      # dados a partir de 2013 coluna se chama AN_BASE\n",
        "      if \"AN_BASE\" in data:\n",
        "        data[\"ano_base\"] = data[\"AN_BASE\"]\n",
        "      # preenche os nans via interpolação linear\n",
        "      data[\"ano_base\"] = data[\"ano_base\"].interpolate()\n",
        "      # adicionar dados ao conjunto\n",
        "      list_df.append(data)\n",
        "  df = pd.concat(list_df, ignore_index=True)\n",
        "  # salvar arquivo no disco\n",
        "  df.to_csv(output_path, index=False)\n",
        "  return df"
      ],
      "execution_count": null,
      "outputs": []
    },
    {
      "cell_type": "code",
      "metadata": {
        "id": "AAR7odFQJFao"
      },
      "source": [
        "between_2013_2019 = [\n",
        "              f\"{workdir}/catalogo-de-teses-e-dissertacoes-de-2013-a-2016\", \n",
        "              f\"{workdir}/2018-catalogo-de-teses-e-dissertacoes-da-capes\"\n",
        "]\n",
        "\n",
        "before_2013 = [f\"{workdir}/1987-a-2012-catalogo-de-teses-e-dissertacoes-brasil\"]"
      ],
      "execution_count": null,
      "outputs": []
    },
    {
      "cell_type": "code",
      "metadata": {
        "id": "ChrsOqSVzk2x",
        "colab": {
          "base_uri": "https://localhost:8080/"
        },
        "outputId": "d12a25e7-e6a1-4cab-d852-8b382688de30"
      },
      "source": [
        "before_2013 =  merge_files(before_2013, f\"{workdir}/catalogo-de-teses-e-dissertacoes-de-1987-a-2012.csv\")\n",
        "before_2013.info()"
      ],
      "execution_count": null,
      "outputs": [
        {
          "output_type": "stream",
          "name": "stderr",
          "text": [
            "/usr/local/lib/python3.7/dist-packages/IPython/core/interactiveshell.py:2822: DtypeWarning: Columns (39,40) have mixed types.Specify dtype option on import or set low_memory=False.\n",
            "  if self.run_code(code, result):\n",
            "/usr/local/lib/python3.7/dist-packages/IPython/core/interactiveshell.py:2822: DtypeWarning: Columns (29,30,39,40) have mixed types.Specify dtype option on import or set low_memory=False.\n",
            "  if self.run_code(code, result):\n",
            "/usr/local/lib/python3.7/dist-packages/IPython/core/interactiveshell.py:2822: DtypeWarning: Columns (29,30,37,38,39,40) have mixed types.Specify dtype option on import or set low_memory=False.\n",
            "  if self.run_code(code, result):\n",
            "/usr/local/lib/python3.7/dist-packages/IPython/core/interactiveshell.py:2822: DtypeWarning: Columns (29,30) have mixed types.Specify dtype option on import or set low_memory=False.\n",
            "  if self.run_code(code, result):\n",
            "/usr/local/lib/python3.7/dist-packages/IPython/core/interactiveshell.py:2822: DtypeWarning: Columns (29,30,31,32) have mixed types.Specify dtype option on import or set low_memory=False.\n",
            "  if self.run_code(code, result):\n",
            "/usr/local/lib/python3.7/dist-packages/IPython/core/interactiveshell.py:2822: DtypeWarning: Columns (29,30,35,36,37,38,39,40) have mixed types.Specify dtype option on import or set low_memory=False.\n",
            "  if self.run_code(code, result):\n",
            "/usr/local/lib/python3.7/dist-packages/IPython/core/interactiveshell.py:2822: DtypeWarning: Columns (27,28,29,30) have mixed types.Specify dtype option on import or set low_memory=False.\n",
            "  if self.run_code(code, result):\n",
            "/usr/local/lib/python3.7/dist-packages/IPython/core/interactiveshell.py:2822: DtypeWarning: Columns (27,28) have mixed types.Specify dtype option on import or set low_memory=False.\n",
            "  if self.run_code(code, result):\n"
          ]
        },
        {
          "output_type": "stream",
          "name": "stdout",
          "text": [
            "<class 'pandas.core.frame.DataFrame'>\n",
            "RangeIndex: 676338 entries, 0 to 676337\n",
            "Data columns (total 42 columns):\n",
            " #   Column                   Non-Null Count   Dtype \n",
            "---  ------                   --------------   ----- \n",
            " 0   AnoBase                  676338 non-null  int64 \n",
            " 1   CodigoPrograma           676338 non-null  object\n",
            " 2   Regiao                   676338 non-null  object\n",
            " 3   Uf                       676338 non-null  object\n",
            " 4   SiglaIes                 676338 non-null  object\n",
            " 5   NomeIes                  676338 non-null  object\n",
            " 6   NomePrograma             676338 non-null  object\n",
            " 7   GrandeAreaCodigo         676338 non-null  int64 \n",
            " 8   GrandeAreaDescricao      676338 non-null  object\n",
            " 9   AreaConhecimentoCodigo   676338 non-null  int64 \n",
            " 10  AreaConhecimento         676338 non-null  object\n",
            " 11  AreaAvaliacao            676338 non-null  object\n",
            " 12  DocumentoDiscente        676338 non-null  object\n",
            " 13  Autor                    676338 non-null  object\n",
            " 14  TituloTese               676277 non-null  object\n",
            " 15  Nivel                    676338 non-null  object\n",
            " 16  DataDefesa               676284 non-null  object\n",
            " 17  PalavrasChave            675313 non-null  object\n",
            " 18  Volume                   676338 non-null  int64 \n",
            " 19  NumeroPaginas            676338 non-null  int64 \n",
            " 20  BibliotecaDepositaria    606374 non-null  object\n",
            " 21  Idioma                   606473 non-null  object\n",
            " 22  ResumoTese               676152 non-null  object\n",
            " 23  LinhaPesquisa            602038 non-null  object\n",
            " 24  URLTextoCompleto         898 non-null     object\n",
            " 25  DocumentoOrientador_1    676134 non-null  object\n",
            " 26  Orientador_1             652548 non-null  object\n",
            " 27  DocumentoOrientador_2    432 non-null     object\n",
            " 28  Orientador_2             425 non-null     object\n",
            " 29  DocumentoOrientador_3    37 non-null      object\n",
            " 30  Orientador_3             35 non-null      object\n",
            " 31  DocumentoOrientador_4    1 non-null       object\n",
            " 32  Orientador_4             1 non-null       object\n",
            " 33  DocumentoCoOrientador_1  78158 non-null   object\n",
            " 34  CoOrientador_1           78158 non-null   object\n",
            " 35  DocumentoCoOrientador_2  13686 non-null   object\n",
            " 36  CoOrientador_2           13686 non-null   object\n",
            " 37  DocumentoCoOrientador_3  1231 non-null    object\n",
            " 38  CoOrientador_3           1231 non-null    object\n",
            " 39  DocumentoCoOrientador_4  202 non-null     object\n",
            " 40  CoOrientador_4           202 non-null     object\n",
            " 41  ano_base                 676338 non-null  int64 \n",
            "dtypes: int64(6), object(36)\n",
            "memory usage: 216.7+ MB\n"
          ]
        }
      ]
    },
    {
      "cell_type": "code",
      "metadata": {
        "id": "NxCfZESlsLnb",
        "colab": {
          "base_uri": "https://localhost:8080/"
        },
        "outputId": "94598957-8cee-4510-8b1c-9f2c2fe3441a"
      },
      "source": [
        "from_2013 = merge_files(between_2013_2019, f\"{workdir}/catalogo-de-teses-e-dissertacoes-de-2013-a-2019.csv\")\n",
        "from_2013.info()"
      ],
      "execution_count": null,
      "outputs": [
        {
          "output_type": "stream",
          "name": "stderr",
          "text": [
            "/usr/local/lib/python3.7/dist-packages/IPython/core/interactiveshell.py:2822: DtypeWarning: Columns (17,19) have mixed types.Specify dtype option on import or set low_memory=False.\n",
            "  if self.run_code(code, result):\n"
          ]
        },
        {
          "output_type": "stream",
          "name": "stdout",
          "text": [
            "<class 'pandas.core.frame.DataFrame'>\n",
            "RangeIndex: 559458 entries, 0 to 559457\n",
            "Data columns (total 57 columns):\n",
            " #   Column                       Non-Null Count   Dtype  \n",
            "---  ------                       --------------   -----  \n",
            " 0   AN_BASE                      559456 non-null  float64\n",
            " 1   CD_PROGRAMA                  559458 non-null  object \n",
            " 2   NM_PROGRAMA                  559457 non-null  object \n",
            " 3   SG_ENTIDADE_ENSINO           559457 non-null  object \n",
            " 4   NM_ENTIDADE_ENSINO           559457 non-null  object \n",
            " 5   ID_ADD_PRODUCAO_INTELECTUAL  559457 non-null  float64\n",
            " 6   ID_PRODUCAO_INTELECTUAL      559457 non-null  float64\n",
            " 7   NM_PRODUCAO                  559457 non-null  object \n",
            " 8   ID_SUBTIPO_PRODUCAO          559457 non-null  float64\n",
            " 9   NM_SUBTIPO_PRODUCAO          559457 non-null  object \n",
            " 10  ID_AREA_CONCENTRACAO         539093 non-null  float64\n",
            " 11  NM_AREA_CONCENTRACAO         559457 non-null  object \n",
            " 12  ID_LINHA_PESQUISA            508465 non-null  float64\n",
            " 13  NM_LINHA_PESQUISA            508466 non-null  object \n",
            " 14  ID_PROJETO                   346197 non-null  float64\n",
            " 15  NM_PROJETO                   346296 non-null  object \n",
            " 16  DH_INICIO_AREA_CONC          529215 non-null  object \n",
            " 17  DH_FIM_AREA_CONC             9655 non-null    object \n",
            " 18  DH_INICIO_LINHA              508466 non-null  object \n",
            " 19  DH_FIM_LINHA                 23049 non-null   object \n",
            " 20  DT_TITULACAO                 559457 non-null  object \n",
            " 21  DS_PALAVRA_CHAVE             559411 non-null  object \n",
            " 22  DS_ABSTRACT                  559443 non-null  object \n",
            " 23  DS_KEYWORD                   559449 non-null  object \n",
            " 24  IN_TRABALHO_MESMA_AREA       559456 non-null  float64\n",
            " 25  NM_TP_VINCULO                559457 non-null  object \n",
            " 26  IN_ORIENT_PARTICIPOU_BANCA   559457 non-null  float64\n",
            " 27  DS_BIBLIOTECA_DEPOSITARIA    559457 non-null  object \n",
            " 28  ID_TP_EXPECTATIVA_ATUACAO    559448 non-null  float64\n",
            " 29  NM_EXPECTATIVA_ATUACAO       559457 non-null  object \n",
            " 30  ID_PESSOA_DISCENTE           559457 non-null  float64\n",
            " 31  NM_DISCENTE                  559457 non-null  object \n",
            " 32  DT_MATRICULA                 559457 non-null  object \n",
            " 33  ID_GRAU_ACADEMICO            559457 non-null  float64\n",
            " 34  NM_GRAU_ACADEMICO            559457 non-null  object \n",
            " 35  NM_ORIENTADOR                559457 non-null  object \n",
            " 36  DS_CATEGORIA_ORIENTADOR      559457 non-null  object \n",
            " 37  NM_CATEGORIA_DOCENTE         559443 non-null  object \n",
            " 38  NM_REGIAO                    559457 non-null  object \n",
            " 39  SG_UF_IES                    559457 non-null  object \n",
            " 40  NM_UF_IES                    559457 non-null  object \n",
            " 41  CD_GRANDE_AREA_CONHECIMENTO  559457 non-null  float64\n",
            " 42  NM_GRANDE_AREA_CONHECIMENTO  559457 non-null  object \n",
            " 43  CD_AREA_CONHECIMENTO         559457 non-null  float64\n",
            " 44  NM_AREA_CONHECIMENTO         559457 non-null  object \n",
            " 45  CD_SUBAREA_CONHECIMENTO      333807 non-null  object \n",
            " 46  NM_SUBAREA_CONHECIMENTO      559457 non-null  object \n",
            " 47  CD_ESPECIALIDADE             278244 non-null  object \n",
            " 48  NM_ESPECIALIDADE             559457 non-null  object \n",
            " 49  NM_AREA_AVALIACAO            559457 non-null  object \n",
            " 50  NR_VOLUME                    473638 non-null  object \n",
            " 51  NR_PAGINAS                   559453 non-null  float64\n",
            " 52  NM_IDIOMA                    559457 non-null  object \n",
            " 53  DS_RESUMO                    559419 non-null  object \n",
            " 54  DS_URL_TEXTO_COMPLETO        559457 non-null  object \n",
            " 55  ID_PESSOA_ORIENTADOR         559339 non-null  float64\n",
            " 56  ano_base                     559458 non-null  float64\n",
            "dtypes: float64(17), object(40)\n",
            "memory usage: 243.3+ MB\n"
          ]
        }
      ]
    },
    {
      "cell_type": "markdown",
      "metadata": {
        "id": "ySbEkwjIxKPM"
      },
      "source": [
        "## Padronização de colunas\n",
        "\n",
        "As informações armazenadas antes de 2013 e a partir de 2013 sobre as teses e dissertações possuem padrões de colunas diferentes, vamos selecionar apenas as colunas em comum e renomeá-las para possuírem os mesmos nomes. Com base nas informações nos metadados definimos as seguintes informações em comum:\n",
        "\n",
        "- cod_programa\n",
        "- regiao\n",
        "- sigla_uf\n",
        "- sigla_entidade_ensino\n",
        "- nome_entidade_ensino\n",
        "- nome_programa\n",
        "- cod_grande_area\n",
        "- nome_grande_area\n",
        "- cod_area_conhecimento\n",
        "- nome_area_conhecimento\n",
        "- nome_area_avaliacao\n",
        "- nome_discente\n",
        "- titulo_producao\n",
        "- grau_academico\n",
        "- palavra_chave\n",
        "- nr_volume\n",
        "- nr_paginas\n",
        "- idioma\n",
        "- resumo\n",
        "- linha_pesquisa\n",
        "- url_texto_completo"
      ]
    },
    {
      "cell_type": "code",
      "metadata": {
        "id": "urTTu-hSJIY_"
      },
      "source": [
        "selected_columns = [\n",
        "\"ano_base\",\n",
        "\"titulo_producao\",\n",
        "\"resumo\",\n",
        "\"palavra_chave\",\n",
        "\"idioma\",\n",
        "\"grau_academico\",\n",
        "\"cod_grande_area\",\n",
        "\"nome_grande_area\",\n",
        "\"cod_area_conhecimento\",\n",
        "\"nome_area_conhecimento\",\n",
        "\"cod_programa\",\n",
        "\"nome_programa\",\n",
        "\"sigla_entidade_ensino\",\n",
        "\"nome_entidade_ensino\",\n",
        "\"nome_area_avaliacao\",\n",
        "\"linha_pesquisa\",\n",
        "\"nr_volume\",\n",
        "\"nr_paginas\",\n",
        "\"regiao\",\n",
        "\"sigla_uf\",\n",
        "\"url_texto_completo\",\n",
        "\"nome_discente\",\n",
        "]"
      ],
      "execution_count": 2,
      "outputs": []
    },
    {
      "cell_type": "code",
      "metadata": {
        "id": "cR0l96GYzm_R",
        "colab": {
          "base_uri": "https://localhost:8080/"
        },
        "outputId": "d2a8a708-6e87-4e8c-e848-1784a80335c1"
      },
      "source": [
        "before_2013.rename({\n",
        "    \"CodigoPrograma\": \"cod_programa\",\n",
        "    \"Regiao\": \"regiao\",\n",
        "    \"Uf\": \"sigla_uf\",\n",
        "    \"SiglaIes\": \"sigla_entidade_ensino\",\n",
        "    \"NomeIes\": \"nome_entidade_ensino\",\n",
        "    \"NomePrograma\": \"nome_programa\",\n",
        "    \"GrandeAreaCodigo\" : \"cod_grande_area\",\n",
        "    \"GrandeAreaDescricao\" :\"nome_grande_area\",\n",
        "    \"AreaConhecimentoCodigo\":\"cod_area_conhecimento\",\n",
        "    \"AreaConhecimento\":\"nome_area_conhecimento\",\n",
        "    \"AreaAvaliacao\": \"nome_area_avaliacao\",\n",
        "    \"Autor\": \"nome_discente\",\n",
        "    \"TituloTese\": \"titulo_producao\",\n",
        "    \"Nivel\": \"grau_academico\",\n",
        "    \"PalavrasChave\": \"palavra_chave\",\n",
        "    \"Volume\": \"nr_volume\",\n",
        "    \"NumeroPaginas\": \"nr_paginas\",\n",
        "    \"Idioma\": \"idioma\",\n",
        "    \"ResumoTese\": \"resumo\",\n",
        "    \"LinhaPesquisa\": \"linha_pesquisa\",\n",
        "    \"URLTextoCompleto\": \"url_texto_completo\"\n",
        "},axis=1, inplace=True)\n",
        "\n",
        "before_2013 = before_2013[selected_columns]\n",
        "before_2013.loc[:,\"idioma\":\"sigla_uf\"] = before_2013.loc[:,\"idioma\":\"sigla_uf\"] .apply(\n",
        "    lambda x: x.str.upper() if(x.dtype == 'object') else x\n",
        ")"
      ],
      "execution_count": 3,
      "outputs": [
        {
          "output_type": "stream",
          "name": "stderr",
          "text": [
            "/usr/local/lib/python3.7/dist-packages/IPython/core/interactiveshell.py:2718: DtypeWarning: Columns (24,27,28,29,30,31,32,35,36,37,38,39,40) have mixed types.Specify dtype option on import or set low_memory=False.\n",
            "  interactivity=interactivity, compiler=compiler, result=result)\n"
          ]
        }
      ]
    },
    {
      "cell_type": "code",
      "metadata": {
        "id": "TupLNlKazw6o",
        "colab": {
          "base_uri": "https://localhost:8080/"
        },
        "outputId": "c2667fdd-b67b-4c72-c81f-508f050ac2c7"
      },
      "source": [
        "from_2013.rename({\n",
        "    \"CD_PROGRAMA\": \"cod_programa\",\n",
        "    \"NM_REGIAO\": \"regiao\",\n",
        "    \"SG_UF_IES\": \"sigla_uf\",\n",
        "    \"SG_ENTIDADE_ENSINO\": \"sigla_entidade_ensino\",\n",
        "    \"NM_ENTIDADE_ENSINO\": \"nome_entidade_ensino\",\n",
        "    \"NM_PROGRAMA\": \"nome_programa\",\n",
        "    \"CD_GRANDE_AREA_CONHECIMENTO\" : \"cod_grande_area\",\n",
        "    \"NM_GRANDE_AREA_CONHECIMENTO\" :\"nome_grande_area\",\n",
        "    \"CD_AREA_CONHECIMENTO\":\"cod_area_conhecimento\",\n",
        "    \"NM_AREA_CONHECIMENTO\":\"nome_area_conhecimento\",\n",
        "    \"NM_AREA_AVALIACAO\": \"nome_area_avaliacao\",\n",
        "    \"NM_DISCENTE\": \"nome_discente\",\n",
        "    \"NM_PRODUCAO\": \"titulo_producao\",\n",
        "    \"NM_GRAU_ACADEMICO\": \"grau_academico\",\n",
        "    \"DS_PALAVRA_CHAVE\": \"palavra_chave\",\n",
        "    \"NR_VOLUME\": \"nr_volume\",\n",
        "    \"NR_PAGINAS\": \"nr_paginas\",\n",
        "    \"NM_IDIOMA\": \"idioma\",\n",
        "    \"DS_RESUMO\": \"resumo\",\n",
        "    \"NM_LINHA_PESQUISA\": \"linha_pesquisa\",\n",
        "    \"DS_URL_TEXTO_COMPLETO\": \"url_texto_completo\"\n",
        "},axis=1, inplace=True)\n",
        "\n",
        "\n",
        "from_2013 = from_2013[selected_columns]\n",
        "\n",
        "from_2013.loc[:,\"idioma\":\"sigla_uf\"] = from_2013.loc[:,\"idioma\":\"sigla_uf\"] .apply(\n",
        "    lambda x: x.str.upper() if(x.dtype == 'object') else x\n",
        ")"
      ],
      "execution_count": 4,
      "outputs": [
        {
          "output_type": "stream",
          "name": "stderr",
          "text": [
            "/usr/local/lib/python3.7/dist-packages/IPython/core/interactiveshell.py:2718: DtypeWarning: Columns (45,47) have mixed types.Specify dtype option on import or set low_memory=False.\n",
            "  interactivity=interactivity, compiler=compiler, result=result)\n"
          ]
        }
      ]
    },
    {
      "cell_type": "markdown",
      "metadata": {
        "id": "hfRRQxvdCC0h"
      },
      "source": [
        "## Agrupando conjunto contendo informações de todas as teses e dissertações\n",
        "\n",
        "Por fim, realizamos o merge de ambos os conjuntos de dados em um grande CSV que poderá ser utilizado em análise futuras."
      ]
    },
    {
      "cell_type": "code",
      "metadata": {
        "id": "CNxj7P4mJLHp"
      },
      "source": [
        "# agrupar dados e ordenar pelo ano de coleta\n",
        "final_data = pd.concat([before_2013, from_2013], ignore_index=True)\n",
        "final_data = final_data.sort_values(\"ano_base\")\n",
        "\n",
        "final_data.to_csv(\n",
        "    f\"{workdir}/catalogo-de-teses-e-dissertacoes.csv\",\n",
        "    index=False\n",
        ")"
      ],
      "execution_count": 5,
      "outputs": []
    },
    {
      "cell_type": "code",
      "metadata": {
        "colab": {
          "base_uri": "https://localhost:8080/"
        },
        "id": "Gfif_7xMqLms",
        "outputId": "23c39dc1-3153-4c45-cd80-82368a7c372f"
      },
      "source": [
        "final_data.info()"
      ],
      "execution_count": 6,
      "outputs": [
        {
          "output_type": "stream",
          "name": "stdout",
          "text": [
            "<class 'pandas.core.frame.DataFrame'>\n",
            "Int64Index: 1235796 entries, 675551 to 1235795\n",
            "Data columns (total 22 columns):\n",
            " #   Column                  Non-Null Count    Dtype  \n",
            "---  ------                  --------------    -----  \n",
            " 0   ano_base                1235796 non-null  float64\n",
            " 1   titulo_producao         1235734 non-null  object \n",
            " 2   resumo                  1235571 non-null  object \n",
            " 3   palavra_chave           1234724 non-null  object \n",
            " 4   idioma                  1165930 non-null  object \n",
            " 5   grau_academico          1235795 non-null  object \n",
            " 6   cod_grande_area         1235795 non-null  float64\n",
            " 7   nome_grande_area        1235795 non-null  object \n",
            " 8   cod_area_conhecimento   1235795 non-null  float64\n",
            " 9   nome_area_conhecimento  1235795 non-null  object \n",
            " 10  cod_programa            1235796 non-null  object \n",
            " 11  nome_programa           1235795 non-null  object \n",
            " 12  sigla_entidade_ensino   1235795 non-null  object \n",
            " 13  nome_entidade_ensino    1235795 non-null  object \n",
            " 14  nome_area_avaliacao     1235795 non-null  object \n",
            " 15  linha_pesquisa          1110504 non-null  object \n",
            " 16  nr_volume               1149976 non-null  object \n",
            " 17  nr_paginas              1235791 non-null  float64\n",
            " 18  regiao                  1235795 non-null  object \n",
            " 19  sigla_uf                1235795 non-null  object \n",
            " 20  url_texto_completo      560355 non-null   object \n",
            " 21  nome_discente           1235795 non-null  object \n",
            "dtypes: float64(4), object(18)\n",
            "memory usage: 216.9+ MB\n"
          ]
        }
      ]
    },
    {
      "cell_type": "code",
      "metadata": {
        "id": "z1v5xP2gJMGL"
      },
      "source": [
        "#@title Pasta do Google Drive \n",
        "#@markdown Inclua o caminho do diretório do drive onde você deseja salvar os dados.\n",
        "destination = \"/content/drive/MyDrive/AcademicAI/\" #@param {type:\"string\"}\n",
        "\n",
        "if os.path.exists(destination):\n",
        "  # Move o diretório atual para o informado\n",
        "  dest = shutil.move(workdir, destination) "
      ],
      "execution_count": 7,
      "outputs": []
    }
  ]
}