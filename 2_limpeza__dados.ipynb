{
  "nbformat": 4,
  "nbformat_minor": 0,
  "metadata": {
    "colab": {
      "name": "2-limpeza_ dados.ipynb",
      "provenance": [],
      "collapsed_sections": [
        "SojsDgsbpdUM",
        "6NiMUzyKs7Vy",
        "If0jNAADjdmc",
        "Mp_DHIbI6BSl"
      ]
    },
    "kernelspec": {
      "name": "python3",
      "display_name": "Python 3"
    },
    "language_info": {
      "name": "python"
    }
  },
  "cells": [
    {
      "cell_type": "markdown",
      "metadata": {
        "id": "5C_GJrm8yPL9"
      },
      "source": [
        "<h1 align=\"center\">\n",
        "Limpeza Catálogo de Teses e Dissertações <br/>\n",
        "<img src=\"https://dadosabertos.capes.gov.br/img/caixa.png\"  alt=\"Dados Capes\"/>\n",
        "</h1>\n",
        "\n",
        "Em nosso conjunto de dados possuímos informações sobre teses e dissertações defendidas no período de 1987-2019. No notebook de [download de metadados](https://github.com/AcademicAI/topicos-teses-e-dissertacoes/blob/main/1_download_metadados.ipynb), realizamos o download e junção de todos os três conjuntos.\n",
        "\n",
        "Desejamos extrair informações e estatísticas sobre o conteúdo das teses e dissertações, para isso utilizamos a coluna `resumo`. \n",
        "\n",
        "Com base no resumo, gostaríamos de responder algumas perguntas sobre os dados,tais como:\n",
        "\n",
        "- quais são os tópicos mais presentes em uma grande área de conhecimento? E em uma área de conhecimento?\n",
        "- quais são os tópicos mais abordados em cada período de tempo?\n",
        "- os tópicos desses trabalhos são diferentes em cada região? E em nível de estadual ou nível de universidade?\n",
        "\n",
        "Entretanto para que isso seja possível, precisamos verificar se não houve erro de preenchimento ou valores faltantes. Assim realizaremos uma limpeza de dados nas colunas referentes a essas informações.\n",
        "\n"
      ]
    },
    {
      "cell_type": "code",
      "metadata": {
        "id": "pXVVtkOrqNRP"
      },
      "source": [
        "from shutil import copyfile\n",
        "import pandas as pd\n",
        "import numpy as np\n",
        "import re\n",
        "import os"
      ],
      "execution_count": 1,
      "outputs": []
    },
    {
      "cell_type": "markdown",
      "metadata": {
        "id": "SojsDgsbpdUM"
      },
      "source": [
        "## Seleção das colunas de interesse\n",
        "\n",
        "Primeiro carregamos o arquivo contendo com conjunto de dados, em seguida selecionamos as colunas que são necessárias para responder nossas perguntas."
      ]
    },
    {
      "cell_type": "code",
      "metadata": {
        "id": "dbBoqdKdyKD8",
        "colab": {
          "base_uri": "https://localhost:8080/",
          "height": 35
        },
        "outputId": "86f76530-8ba0-4557-e88a-250da3659244"
      },
      "source": [
        "#@title Caminho do arquivo\n",
        "#@markdown Inclua o caminho do arquivo onde você salvou.\n",
        "filepath = \"/content/drive/MyDrive/AcademicAI/catalogo-de-teses-e-dissertacoes/catalogo-de-teses-e-dissertacoes.csv\" #@param {type:\"string\"}\n",
        "\n",
        "# copia arquivo para o diretório do colab\n",
        "copyfile(filepath, '/content/catalogo-de-teses-e-dissertacoes.csv')"
      ],
      "execution_count": 2,
      "outputs": [
        {
          "output_type": "execute_result",
          "data": {
            "application/vnd.google.colaboratory.intrinsic+json": {
              "type": "string"
            },
            "text/plain": [
              "'/content/catalogo-de-teses-e-dissertacoes.csv'"
            ]
          },
          "metadata": {},
          "execution_count": 2
        }
      ]
    },
    {
      "cell_type": "code",
      "metadata": {
        "colab": {
          "base_uri": "https://localhost:8080/"
        },
        "id": "_1NZ94NPq4hZ",
        "outputId": "deb72e70-f430-4673-ab7e-ae5aaed702b3"
      },
      "source": [
        "data = pd.read_csv('catalogo-de-teses-e-dissertacoes.csv')\n",
        "data.info()"
      ],
      "execution_count": 3,
      "outputs": [
        {
          "output_type": "stream",
          "name": "stderr",
          "text": [
            "/usr/local/lib/python3.7/dist-packages/IPython/core/interactiveshell.py:2718: DtypeWarning: Columns (16,20) have mixed types.Specify dtype option on import or set low_memory=False.\n",
            "  interactivity=interactivity, compiler=compiler, result=result)\n"
          ]
        },
        {
          "output_type": "stream",
          "name": "stdout",
          "text": [
            "<class 'pandas.core.frame.DataFrame'>\n",
            "RangeIndex: 1235796 entries, 0 to 1235795\n",
            "Data columns (total 22 columns):\n",
            " #   Column                  Non-Null Count    Dtype  \n",
            "---  ------                  --------------    -----  \n",
            " 0   ano_base                1235796 non-null  float64\n",
            " 1   titulo_producao         1235734 non-null  object \n",
            " 2   resumo                  1235571 non-null  object \n",
            " 3   palavra_chave           1234724 non-null  object \n",
            " 4   idioma                  1165930 non-null  object \n",
            " 5   grau_academico          1235795 non-null  object \n",
            " 6   cod_grande_area         1235795 non-null  float64\n",
            " 7   nome_grande_area        1235795 non-null  object \n",
            " 8   cod_area_conhecimento   1235795 non-null  float64\n",
            " 9   nome_area_conhecimento  1235795 non-null  object \n",
            " 10  cod_programa            1235796 non-null  object \n",
            " 11  nome_programa           1235795 non-null  object \n",
            " 12  sigla_entidade_ensino   1235795 non-null  object \n",
            " 13  nome_entidade_ensino    1235795 non-null  object \n",
            " 14  nome_area_avaliacao     1235795 non-null  object \n",
            " 15  linha_pesquisa          1110504 non-null  object \n",
            " 16  nr_volume               1149976 non-null  object \n",
            " 17  nr_paginas              1235791 non-null  float64\n",
            " 18  regiao                  1235795 non-null  object \n",
            " 19  sigla_uf                1235795 non-null  object \n",
            " 20  url_texto_completo      560355 non-null   object \n",
            " 21  nome_discente           1235795 non-null  object \n",
            "dtypes: float64(4), object(18)\n",
            "memory usage: 207.4+ MB\n"
          ]
        }
      ]
    },
    {
      "cell_type": "markdown",
      "metadata": {
        "id": "4pt-UFOPrISK"
      },
      "source": [
        "Dentre as colunas de interesse selecionamos:\n",
        "\n",
        "- ano_base\n",
        "- resumo\n",
        "- nome_grande_area\n",
        "- nome_area_conhecimento\n",
        "- regiao\n",
        "- sigla_uf\n",
        "- sigla_entidade_ensino"
      ]
    },
    {
      "cell_type": "code",
      "metadata": {
        "colab": {
          "base_uri": "https://localhost:8080/",
          "height": 206
        },
        "id": "CSDLFwwmrURR",
        "outputId": "a4bba6e1-f58e-4fb2-aebd-35e41895c104"
      },
      "source": [
        "data = data[['ano_base', 'resumo', 'nome_grande_area', 'nome_area_conhecimento', 'regiao', 'sigla_uf', 'sigla_entidade_ensino']]\n",
        "data.head()"
      ],
      "execution_count": 4,
      "outputs": [
        {
          "output_type": "execute_result",
          "data": {
            "text/html": [
              "<div>\n",
              "<style scoped>\n",
              "    .dataframe tbody tr th:only-of-type {\n",
              "        vertical-align: middle;\n",
              "    }\n",
              "\n",
              "    .dataframe tbody tr th {\n",
              "        vertical-align: top;\n",
              "    }\n",
              "\n",
              "    .dataframe thead th {\n",
              "        text-align: right;\n",
              "    }\n",
              "</style>\n",
              "<table border=\"1\" class=\"dataframe\">\n",
              "  <thead>\n",
              "    <tr style=\"text-align: right;\">\n",
              "      <th></th>\n",
              "      <th>ano_base</th>\n",
              "      <th>resumo</th>\n",
              "      <th>nome_grande_area</th>\n",
              "      <th>nome_area_conhecimento</th>\n",
              "      <th>regiao</th>\n",
              "      <th>sigla_uf</th>\n",
              "      <th>sigla_entidade_ensino</th>\n",
              "    </tr>\n",
              "  </thead>\n",
              "  <tbody>\n",
              "    <tr>\n",
              "      <th>0</th>\n",
              "      <td>1987.0</td>\n",
              "      <td>EM 1985, REALIZOU-SE UMA PESQUISA EM TRES UNID...</td>\n",
              "      <td>CIÊNCIAS HUMANAS</td>\n",
              "      <td>EDUCAÇÃO</td>\n",
              "      <td>SUDESTE</td>\n",
              "      <td>SP</td>\n",
              "      <td>PUC/SP</td>\n",
              "    </tr>\n",
              "    <tr>\n",
              "      <th>1</th>\n",
              "      <td>1987.0</td>\n",
              "      <td>ESTUDA A TRAJETORIA DE FORMACAO DO CONTEXTO IN...</td>\n",
              "      <td>CIÊNCIAS SOCIAIS APLICADAS</td>\n",
              "      <td>ADMINISTRAÇÃO PÚBLICA</td>\n",
              "      <td>NORDESTE</td>\n",
              "      <td>BA</td>\n",
              "      <td>UFBA</td>\n",
              "    </tr>\n",
              "    <tr>\n",
              "      <th>2</th>\n",
              "      <td>1987.0</td>\n",
              "      <td>A RECEPCAO DA TELEVISAO PELOS PEQUENOS PRODUTO...</td>\n",
              "      <td>CIÊNCIAS SOCIAIS APLICADAS</td>\n",
              "      <td>ADMINISTRAÇÃO PÚBLICA</td>\n",
              "      <td>NORDESTE</td>\n",
              "      <td>PE</td>\n",
              "      <td>UFRPE</td>\n",
              "    </tr>\n",
              "    <tr>\n",
              "      <th>3</th>\n",
              "      <td>1987.0</td>\n",
              "      <td>ESTUDO DAS CONSEQUENCIAS JURIDICAS DA SEPARACA...</td>\n",
              "      <td>CIÊNCIAS SOCIAIS APLICADAS</td>\n",
              "      <td>DIREITO</td>\n",
              "      <td>SUDESTE</td>\n",
              "      <td>SP</td>\n",
              "      <td>USP</td>\n",
              "    </tr>\n",
              "    <tr>\n",
              "      <th>4</th>\n",
              "      <td>1987.0</td>\n",
              "      <td>O PODER DISCRICIONARIO ESTA PRESENTE NA ATIVID...</td>\n",
              "      <td>CIÊNCIAS SOCIAIS APLICADAS</td>\n",
              "      <td>DIREITO</td>\n",
              "      <td>SUDESTE</td>\n",
              "      <td>SP</td>\n",
              "      <td>USP</td>\n",
              "    </tr>\n",
              "  </tbody>\n",
              "</table>\n",
              "</div>"
            ],
            "text/plain": [
              "   ano_base  ... sigla_entidade_ensino\n",
              "0    1987.0  ...                PUC/SP\n",
              "1    1987.0  ...                  UFBA\n",
              "2    1987.0  ...                 UFRPE\n",
              "3    1987.0  ...                   USP\n",
              "4    1987.0  ...                   USP\n",
              "\n",
              "[5 rows x 7 columns]"
            ]
          },
          "metadata": {},
          "execution_count": 4
        }
      ]
    },
    {
      "cell_type": "code",
      "metadata": {
        "colab": {
          "base_uri": "https://localhost:8080/"
        },
        "id": "sfsglNZsr7Uq",
        "outputId": "a9b562a9-6ce9-45dd-8b51-427a6e733ad8"
      },
      "source": [
        "data.info()"
      ],
      "execution_count": 5,
      "outputs": [
        {
          "output_type": "stream",
          "name": "stdout",
          "text": [
            "<class 'pandas.core.frame.DataFrame'>\n",
            "RangeIndex: 1235796 entries, 0 to 1235795\n",
            "Data columns (total 7 columns):\n",
            " #   Column                  Non-Null Count    Dtype  \n",
            "---  ------                  --------------    -----  \n",
            " 0   ano_base                1235796 non-null  float64\n",
            " 1   resumo                  1235571 non-null  object \n",
            " 2   nome_grande_area        1235795 non-null  object \n",
            " 3   nome_area_conhecimento  1235795 non-null  object \n",
            " 4   regiao                  1235795 non-null  object \n",
            " 5   sigla_uf                1235795 non-null  object \n",
            " 6   sigla_entidade_ensino   1235795 non-null  object \n",
            "dtypes: float64(1), object(6)\n",
            "memory usage: 66.0+ MB\n"
          ]
        }
      ]
    },
    {
      "cell_type": "markdown",
      "metadata": {
        "id": "_mH5btj0rupS"
      },
      "source": [
        "Podemos perceber que há palavras não acentuadas nos textos de 1987. Também notamos que há valores `nan` na coluna de resumo, como a nossa análise a considera, realizamos a remoção das linhas onde o `resumo` não foi cadastrado."
      ]
    },
    {
      "cell_type": "code",
      "metadata": {
        "colab": {
          "base_uri": "https://localhost:8080/"
        },
        "id": "Okf5CqNhrr0k",
        "outputId": "075af186-6feb-43ca-f11d-e0d5e77aec3e"
      },
      "source": [
        "data = data.dropna(subset=['resumo'])\n",
        "data.info()"
      ],
      "execution_count": 6,
      "outputs": [
        {
          "output_type": "stream",
          "name": "stdout",
          "text": [
            "<class 'pandas.core.frame.DataFrame'>\n",
            "Int64Index: 1235571 entries, 0 to 1235795\n",
            "Data columns (total 7 columns):\n",
            " #   Column                  Non-Null Count    Dtype  \n",
            "---  ------                  --------------    -----  \n",
            " 0   ano_base                1235571 non-null  float64\n",
            " 1   resumo                  1235571 non-null  object \n",
            " 2   nome_grande_area        1235571 non-null  object \n",
            " 3   nome_area_conhecimento  1235571 non-null  object \n",
            " 4   regiao                  1235571 non-null  object \n",
            " 5   sigla_uf                1235571 non-null  object \n",
            " 6   sigla_entidade_ensino   1235571 non-null  object \n",
            "dtypes: float64(1), object(6)\n",
            "memory usage: 75.4+ MB\n"
          ]
        }
      ]
    },
    {
      "cell_type": "markdown",
      "metadata": {
        "id": "G7EiD3rRykPe"
      },
      "source": [
        "Por fim removemos as linhas duplicadas cadastradas em nosso *dataset*.\n",
        "\n"
      ]
    },
    {
      "cell_type": "code",
      "metadata": {
        "colab": {
          "base_uri": "https://localhost:8080/"
        },
        "id": "haK6zBc1yqyO",
        "outputId": "ef4ab074-4145-4e61-e0e4-bf5af004c494"
      },
      "source": [
        "data = data.drop_duplicates()\n",
        "data.info()"
      ],
      "execution_count": 7,
      "outputs": [
        {
          "output_type": "stream",
          "name": "stdout",
          "text": [
            "<class 'pandas.core.frame.DataFrame'>\n",
            "Int64Index: 1226895 entries, 0 to 1235795\n",
            "Data columns (total 7 columns):\n",
            " #   Column                  Non-Null Count    Dtype  \n",
            "---  ------                  --------------    -----  \n",
            " 0   ano_base                1226895 non-null  float64\n",
            " 1   resumo                  1226895 non-null  object \n",
            " 2   nome_grande_area        1226895 non-null  object \n",
            " 3   nome_area_conhecimento  1226895 non-null  object \n",
            " 4   regiao                  1226895 non-null  object \n",
            " 5   sigla_uf                1226895 non-null  object \n",
            " 6   sigla_entidade_ensino   1226895 non-null  object \n",
            "dtypes: float64(1), object(6)\n",
            "memory usage: 74.9+ MB\n"
          ]
        }
      ]
    },
    {
      "cell_type": "markdown",
      "metadata": {
        "id": "6NiMUzyKs7Vy"
      },
      "source": [
        "## Limpeza do Resumo\n",
        "\n",
        "Para a limpeza do resumo começamos removendo os resumos com o texto `NAO INFORMADO.`."
      ]
    },
    {
      "cell_type": "code",
      "metadata": {
        "id": "kpM9FIzNwHSX"
      },
      "source": [
        "data = data[~data['resumo'].str.contains('NAO INFORMADO.', regex=False)]"
      ],
      "execution_count": 8,
      "outputs": []
    },
    {
      "cell_type": "markdown",
      "metadata": {
        "id": "nKJUvYRN0Om4"
      },
      "source": [
        "Sabemos que em nosso dataset há textos sem valor para nossa análise, como exemplo o texto `NAO INFORMADO`. \n",
        "\n",
        "Na linha abaixo buscamos os resumos com até 60 caracteres."
      ]
    },
    {
      "cell_type": "code",
      "metadata": {
        "id": "-6S7_boo8nUf"
      },
      "source": [
        "for index, _ in data[data['resumo'].str.len() <= 60]['resumo'].str.lower().value_counts().items():\n",
        "  print(index)"
      ],
      "execution_count": null,
      "outputs": []
    },
    {
      "cell_type": "markdown",
      "metadata": {
        "id": "OPGDwVHiALrI"
      },
      "source": [
        "Podemos notar que a maioria das sentenças com até 60 caracteres não refletem informação útil sobre a tese/dissertação, optamos por removê-las."
      ]
    },
    {
      "cell_type": "code",
      "metadata": {
        "colab": {
          "base_uri": "https://localhost:8080/"
        },
        "id": "XrCJU5bo-O4e",
        "outputId": "5ced71ad-01c7-40d4-f7f1-c01ce1492716"
      },
      "source": [
        "data = data[data['resumo'].str.len() > 60] \n",
        "data.info()"
      ],
      "execution_count": 10,
      "outputs": [
        {
          "output_type": "stream",
          "name": "stdout",
          "text": [
            "<class 'pandas.core.frame.DataFrame'>\n",
            "Int64Index: 1220066 entries, 0 to 1235795\n",
            "Data columns (total 7 columns):\n",
            " #   Column                  Non-Null Count    Dtype  \n",
            "---  ------                  --------------    -----  \n",
            " 0   ano_base                1220066 non-null  float64\n",
            " 1   resumo                  1220066 non-null  object \n",
            " 2   nome_grande_area        1220066 non-null  object \n",
            " 3   nome_area_conhecimento  1220066 non-null  object \n",
            " 4   regiao                  1220066 non-null  object \n",
            " 5   sigla_uf                1220066 non-null  object \n",
            " 6   sigla_entidade_ensino   1220066 non-null  object \n",
            "dtypes: float64(1), object(6)\n",
            "memory usage: 74.5+ MB\n"
          ]
        }
      ]
    },
    {
      "cell_type": "markdown",
      "metadata": {
        "id": "Ud4A0X8QAijl"
      },
      "source": [
        "Fazemos mais uma checagem para trabalhos com até 100 caracteres a fim de descobrir padrões que podemos usar para remover as linhas inconsistentes, se possível."
      ]
    },
    {
      "cell_type": "code",
      "metadata": {
        "id": "neioBgMpAgCT"
      },
      "source": [
        "for index, _ in data[data['resumo'].str.len() < 100]['resumo'].str.lower().value_counts().items():\n",
        "  print(index)"
      ],
      "execution_count": null,
      "outputs": []
    },
    {
      "cell_type": "markdown",
      "metadata": {
        "id": "LaPWkRg1IE1W"
      },
      "source": [
        "Nessa amostra de até 100 caracteres, percebemos alguns padrões:\n",
        "1. sequência de caracteres repetidos\n",
        "2. Textos com url\n",
        "\n",
        "Em 1 podemos remover a repetição dos caracteres.\n",
        "Em 2 podemos remover as URLs.\n",
        "\n",
        "Por fim, excluímos os resumos com até 50 caracteres."
      ]
    },
    {
      "cell_type": "code",
      "metadata": {
        "id": "DBhIe7N1K7oY"
      },
      "source": [
        "# substitui sequências como aaaaaaaaaaaaaaaaaaaaa por a, ou ------ por -\n",
        "resumo_sem_repetidos = data['resumo'].str.replace(r'([\\w.*-])\\1{2,}', r'\\1')"
      ],
      "execution_count": 12,
      "outputs": []
    },
    {
      "cell_type": "code",
      "metadata": {
        "id": "vmt3V6rpOR-4"
      },
      "source": [
        "# primeiro replace: substitui sequências como NONONONO por NO\n",
        "# segundo replace: remove hiperlinks\n",
        "resumo_sem_repetidos = resumo_sem_repetidos.str.replace(r'([\\w.*-][\\w.*-])\\1{2,}', r'\\1').str.replace(r'(https?:\\/\\/)?([\\da-z\\.-]+)\\.([a-z\\.]{2,6})([\\/\\w \\.-]*)', ' ', flags=re.IGNORECASE)"
      ],
      "execution_count": 13,
      "outputs": []
    },
    {
      "cell_type": "code",
      "metadata": {
        "colab": {
          "base_uri": "https://localhost:8080/"
        },
        "id": "bC4YkEEk2Z60",
        "outputId": "ce710154-efcf-4988-dbc3-a5cebb28bfb7"
      },
      "source": [
        "# resumos com menos de 50 caracteres\n",
        "for index in data[resumo_sem_repetidos.str.len() < 50]['resumo'].values:\n",
        "  print(index)"
      ],
      "execution_count": 14,
      "outputs": [
        {
          "output_type": "stream",
          "name": "stdout",
          "text": [
            "O EXPERIMENTO FOI CONDUZIDO DE DEZ.DE 83 A JULHO 87 FORAM ESTUDADAS   TRES FREQUENCIAS E DUAS ALTURAS DE CORTE NA PRODUTIVIDADE E FISIOLOGIADE PERFILHAMENTO DO CAPIM SETARIA  EM DELINEAMENTO DE BLOCOS AO ACASO COM  4 REPETICOES  E UM ARRANJO FA-TORIAL 3X2 NOS TRATAMENTOS FREQUEN-CIA  DE CORTE  INFLUIU SIGNIFICATI-VAMENTE NA ELEVACAO DO MERISTEMA   APICAL NO NUMERO DE PERFILHOS BASI-LARES E LATERAIS HOUVERAM EFEITOS SIGNIFICATIVOS DE DATAS DE CORTE SOBRE   TODAS AS VARIAVEIS ESTUDADAS ALTURAS DE CORTE INFLUENCIARAM SIG-NIFICATIVAMENTE A PRODUCAO DE MATE-RIA SECA O ELEVACAO DO MERISTEMA A-PICAL AS CONDICOES CLIMATICAS TIVE- SOBRE ESSE TIPO DE PERFILHO.\n",
            "ANTECEDENTES E CAUSAS. A DECADA DE 20 NO BRASIL.PARAIBA E PERNAMBUCO  EM 1930. IDEOLOGIA DA REVOLUCAO DE 1930.O GOVERNO CARLOS DE LIMA CAVALANTI. CONTROVERSIAS E REALIZACOES. ADOS BIOGRAFICOS. CARLOS DE LIMA E OS DIFERENTES SEGMENTOS SOCIAIS  EM PERNAMBUCO.O AMBIENTE AS VESPE- RAS DA REVOLTA E SUA CRONOLOGIA.   FRACASSO E REACAO OFICIAL. REPERCUSSOES. BIOGRAFIA E IDEOLOGIA DE PE  DRO CALLADO. ESTUDO COMPARATIVO DAS IDEOLOGIAS DE 30 E 31. ANEXOS.DIA- RIO DE PRISAO DE DJAIME DE PAULA   VIANA EM FERNANDO DE NORONHA.      TELEGRAMAS OFICIAIS. DEPOIMENTO DE HELIO COUTINHO.\n",
            "SA.OS RESULTADOS ESTAO DE ACORDO COM UM MODELO DE ESTRUTURA QUE TEM UMA MATRIZ DO SIG DENSA.A ESTRUTURA FRACTAL DESAPARECE DURANTE O TRATAMETO TERMICO DE DENSIFICACAO DEVIDO  O REARRANJO ESTRUTURAL.\n",
            "WE DEVELOPED A BAYESIAN SOFWARE PK.THE WEIBULL DISTRIBUTION IS A VERY POPULAR LIFE TESTING MODEL USED FORMECHANICAL COMPONENTS.IN LABORATORY TESTING OF MECHANICAL COMPONENTS THE SAMPLE SIZE IS OFTEN RELATIVELY SMALL AND THE TESTS TEND TO BE DONEIN A SIMILIAR FASHION FROM ONE DESIGN EVOLUTION TO THE NEXT.IN THIS PRODUCT DEVELOPMENT ENVIRONMENT THE ENGINEER HAS CONSIDERABLE PAST EXPERIENCE ON WHAT CONSTITUTES GOOD RESU LTS FROM THE LIFE TEST AND HENCE ATTACHES MORE SIGNIFICANCE TO THE TEST DATA THAN WOULD BE WARRANTED BY APPLICATION OF TRADITIONAL STATISTICAL ESTIMATION PROCEDURES THIS SUGGESTS AN IDEAL SITUATION FOR THE APPL  OF A PRIOR DISTRIBUTION FOR THE UNKNOWN PARAMETERS. IN THE CASE OF THE TWO PARAMETER WEIBULL DISTRIBUTION WE HAVE TWO PARAMETERS WHICH MUST BE QUANTIFIED BY PRIOR DISTRIBUTIONS.THESE PARAMETERS ARE THE WEIBULL  SLOPE OR SHAPE PARAMETER AND CHARACTERISTIC LIFE OR SCALE PARAMETER. WE HAVE MODELED THE TYPICAL LIFE TESTING SITUATION AND PROVIDED A WORKING BAYESIAN ESTIMATION PROCEDURE. WE HAVE USED THE INVERSE WEIBULL FO R THE PRIOR DISTRIBUTION OF THE CHARACTERISTIC LIFE AND THE BETA DISTRIBUTION AS THE PRIOR FOR THE WEIBULL SHAPE PARAMETER AND A SOFTWARE PK\n",
            "NAO ENTREGOU OS EXEMPLARES DE SUA TESE.------------------------------\n",
            "NAO ENTREGOU OS EXEMPLARES DA TESE.-----------------------------------\n",
            "ANAL.SOME PAST AN CURRENT TRENDS INTHE FIELD OF TRANSL.OF RELIGIOUS TEXTS AND POINTS OUT SOME PROBLEMS WHICH ARE SPECIFIC OF SUCH TEXTS AND THERS WHICH BELLONG TO THE GEN.FIEAD OF TRANSLATION THE FOCUS IS ON TA HE DYNAMIC ASPECTS OF TRANSL. AND ON COMMUNICATION THE AUTHOR BRINGS INTO FOCUS THE THEORY OF ELAB. AND RESTR. CODES AND INFORMATION THEORY TO SUPPORT  HIS ARGUMENTS.\n",
            "APRESENTAMOS TRABALHOS EM DOIS ASSUNTOS DISTINTOS.INICIALMENTE DESENVOLVEMOS O FORMALISMO DE DIRAC PARA Q\n",
            "EM 62 BIOPSIAS HEPATICAS ESTUDADAS A M.O E M.E. FOI INVESTIGADO O PROCESSO DE FIBROPLASIA .OS EXAMES CLINICO-LABORATORIAIS NAO PERMITIRAM UMA CORRELACAO ENTRE A DURACAO E INTENSIDADE DA DOENCA HEPATICA E A GRAV IDADE DO QUADRO HISTOLOGICO.A FIBROSE LOBULAR RESULTA DA ATIVACAO DAS CELULAS PERISINUSOIDAIS QUE SE TRANSFORMAM EM CELULAS SEMELHANTES A FIBROBLASTOS E EM FIBROBLASTOS .A PROGRESSAO DA HEPATOPATIA ALCOOLICA SE  PROCESSA PELA CICATRIZACAO DAS AREAS NECROTICAS PERIVENULARES OU DAS PONTES ENTRE ESTRUTURAS VASCULARES PELA FIBROSE PERISINUSOIDAL OU PELA SUPERPOSICAO DE SEPTOS PORTO-PORTAIS FORMADOS A PARTIR DOS ESPACOS PO\n",
            "O trab.apresenta um est.comparativoentre dois tubos de calor de mesmascaract. que se  diferenciam  apenasqto. a confec. de seu leito poroso.m um deles o leito poroso foi confAccionado c/telas metalicas  presasA no interior do casco do TB p/efeitomola das proprias telas e no  outroas telas foram sinterizadas dentro do casco utilizando-se de tecnol.especialmente desenvol.p/ este fim. Omod.teor.proposto por SUN e TIEN p/ o desemp.termico dos TB,foi comparado aos resultados exper..Da analisedestes resul.concluiu-se que o mod.se aproximou mais do tubo com telassinterizadas. Atraves  dos  val. dorendim. calorimetrico e da condutan\n",
            "XXXXXXXXXXXXXXXXXXXXXXXXXXXXXXXXXXXXXXXXXXXXXXXXXXXXXXXXXXXXXXXXXXXX\n",
            "O GRUPO DE PESQUISA DO DR.ETELVINO BECHARA MOSTROU QUE PACIENTES DE   PORFIRIA AGUDA INTERMITENTE E TRA- BALHADORES EXPOSTOS A CHUMBO APRE- SENTAM NIVEIS ELEVADOS DE ENZIMAS  ANTIOXIDANTES ERITROCITARIA E QUE O ACIDO 5-AMINOLEVULINICO SOFRE    OXIDACAO AEROBICA IN VITRO GERANDO ESPECIES REATIVAS DE OXIGENIO. ES- TES DADOS INDICARAM HAVER UMA CONE-XAO ENTRE AS DOENCAS ESTUDADAS E   ESTRESSE SE MITOCONDRIAS ISOLADAS\n",
            "PERFIL DA ASSISTENCIA PREINATAL NA GRANDE VITORIA-E.S.-BRASIL-1992\".\n",
            "ESTUDA MAES DE CRIANCAS TALASSEMICAS.FORAM ESTUDADOS TRES CASOS BUSCANDO-SE COMPREENDER A DINAMICA PSICOLOGICA DA RELACAO MAE CRIANCA TALASSEMICA E SUA INFLUENCIA NO DESENVOLVIMENTO DO TRATAMENTO DA DOENCA. NES TA PESQUISA QUALITATIVA A ANALISE DOS RESULTADOS SE DEU BASEADA NO METODO FENOMENOLOGICO FAZENDO USO DE RELATOS ONDE AS MAES CONTAM A HISTORIA DA CRIANCA DESDE SEU NASCIMENTO.CONCLUIU-SE QUE AS MAES DE CRIANCAS  TALASSEMICAS POSSUEM UM CONFLITO EM RELACAO A DOENCA DA CRIANCA.TAL CONFLITO SE CARACTERIZA POR UM SENTIMENTO NEGATIVO PELA NAO ACEITACAO DESTE FRENTE A DOENCA DA CRIANCA.CONSEQUENTEMENTE GERA ATUACOES AS VEZE\n",
            "BBBBBBBBBBBBBBBBBBBBBBBBBBBBBBBBBBBBBBBBBBBBBBBBBBBBBBBBBBBBBBBBBBBBBBBBBBBBBBBBBBBBBBBBBBBBBBBBBBBBBBBBBBBBBBBBBBBBBBBBBBBBBBBBBBBBBBBBBBBB\n",
            "XXXXXXXXXXXXXXXXXXXXXXXXXXXXXXXXXXXXXXXXXXXXXXXXXXXXXXXXXXXXXXXXXXXXXXXXXXXXXXXXXXXXXXXXXXXXXXXXXXXXXXXXXXXXXXXXX\n",
            "AS ESPECIES ARBOREAS RHIZOPHORA MANGLE L., R.HARRISONII LEECHMA E R.RACEMOSA G.F.W. MEYER DOS MANGUEZAIS DO RIO PREGUICAS NO ESTADO DO MARANHAO FORAM ESTUDADAS RESSALTANDO SUAS CARACTERISTICAS FOLIARES SOB TECN ICAS USUAIS DE ANATOMIA. COMO CARACTERISTICAS MARCANTES FORAM OBSERVADAS AS OCORRENCIAS DE ESCLEREIDES DE FORMAS VARIADAS COM PADROES DIFUSOS DE DISTRIBUICAO E LENTICELAS DISTRIBUIDAS DESORDENADAMENTE PELO LIMB O FOLIAR. ANALISES ESTATISTICAS EFETUADAS LEVOU-NOS A SUPOR QUE A ESPECIE R.HARRISONII E UM HIBRIDO DE R.MANGLE E R.RACEMOSA.\n",
            "FORAMINCLUSOS23PACIENTESPORTADORESDPOCEDESNUTRICAOCOMBAIXAFORCADOSMUSCULOSRESPIRATORIOS.SETEPACIENTESDOGRUPOPLACEBOE10DOGRUPOESTEROIDEANABOLICO.OESTUDONAOHOUVEALTERACAONOECGNOEIXOFREQUENCIAOUORIENTACAODOEIXO.NA OHOUVEALTERACAONODIAMETRO.HOUVEDIMUNICAODETODAASFRACOESLIPIDICAS(COELSTEROLTOTAL,TRIGLICERIS,HDL,LDLEVLDR)OQUENAOOCORREUNOGRUPOCONTROLE.HOUVEAUMENTODAMASSAGRMAGRAEDIMUNICAODAMASSADEGORDURANOGRUPOESTEROIDE.NOGRU POPLACEBOHOUVEAUMENTODAMASSAGORDUROSA.NAOHOUVEALTERACAOCARDIACA.NOECOCARDIOGRAMANOSIV,PPVEEDIAMETROSDIASEOTICOESISLOLICO.NAOHOUVEALTERACAODAMASSACARDIACANAAVALIACAOECOCARDIOGRAMAINICIAL9,18E27SEMANAS.AFORMULAUT\n",
            "ISOLADOS DE P.BRAZILIENSIS FORAM CARACTERIZADOS POR PADRÕES RAPD. DE 15 ISOLADOS FORAM SEPARADOS 2 GRUPOS. NO PRIMEIRO SITUAVAM-SE OS PADRÕES DE ACORDO COM A SEVERIDADE DAS LESÕES QUE INDICAVAM A VIRULÊNCIA. OS SEIS ISOLADOS DESTE GRUPO MOSTRARAM DIFERENÇAS ACENTUADAS NO PADRÃO DE VIRULÊNCIA PARA CAMUNDONGOS. OS ISOLADOS DO GRUPO 2 PRODUZIAM INFECCÃO DISSEMINADA COM EXTENSAS ÁREAS DE NECROSE E MUITOS FUNGOS. NESTE MESMO GRUPO 4 ISOLADOS INDUZIAM INFECCAO LOCALIZADA RESTRITA AO FÍGADO COM POUCOS FUNGOS. DOIS ISOLADOS DE GRANDE VIRULÊNCIA TIVERAM ESSA CARACTERÍSTICA DEPOIS DE SUBCULTIVOS EM VÁRIOS ANOS. TOMADOS EM CONJUNTO A CARACTERIZAÇÃO RAPD DOS 2 GRUPOS MOSTRA CORRELAÇÃO ENTRE MARCADORES GENETICOS E VIRULENCIA.\n",
            "A INTEGRAÇÃO DE KDNA DE T.CRUZI NO GENOMA DE MACRÓFAGO P388D1-IL1 FOI CONFIRMADA APÓS AMPLIFICAÇÃO POR PCR COM PRIMERS DE REGIÃO CONSERVADA  DE MINICÍRCULOS. AMPLIFICAÇÃO NÃO FOI OBTIDA COM MACRÓFAGO NORMAL. AS SEQUÊNCIAS MOSTRARAM INTEGRAÇÕES INVERTIDAS REPETIDAS EM REGIÃO DE RETROTRANSPOSON DA FAMÍLIA L1. OS MACRÓFAGOS TRANSFECTADOS FORAM CLONADOS E MOSTRARAM SINAIS DE INTEGRAÇÃO POR TÉCNICAS DE PCR E DE SOUTHERN BLOTTING. ESSAS LINHAGENS SUBCLONAIS SÃO EMPREGADAS PARA AVERIGUAÇÃO DOS SÍTIOS E DOS MECANISMOS DE INTEGRAÇÃO. MODIFICAÇÕES DA EXPRESSÃO GÊNICA SÃO ENCONTRADAS NOS CLONES TRANSFECTADOS COM KDNA.\n",
            "Utilização de técnicas de P.O. na determinação de pontos de distribuição espacial de serviços especializados de saúde.\n",
            "xxxxxxxxxxxxxxxxxxxxxxxxxxxxxxxxxxxxxxxxxxxxxxxxxxxxxxxxxxxxxxxxxxxxxxxxxxxxxxx\n",
            "AS DUAS ESPECIES DO GENERO PLATYDORAS, P.CASTALUS E P.ARMATULUS SÃO ESTUDADAS. DURANTE MUITO TEMPO ELAS FORAM DIFERENCIADAS POR VARIAÇÕES NO PADRÃO DE COLORIDO E PELA DISTRIBUIÇÃO DISJUNTA. OS RESULTADOS DESTE ESTUDO INDICARAM NOVOS CARACTERES QUE PERMITEM UMA IDENTIFICAÇÃO SEGURA DESSAS ESPECIES. AS POPULAÇÕES PRESENTES NOS RIOS DO NORDESTE DO BRASIL CONSTITUEM-SE EM UMA NOVA ESPECIE E É DESCRITA NESTE TRABALHO.\n",
            "***********************************************************************************************************************\n",
            "FALTA RESOMO.---------------------------------------------------------------------------------------------\n",
            "Estou devendo resumo...Devo corrigir o número de meses também.\n",
            "xxxxxxxxxxxxxxxxxxxxxxxxxxxxxxxxxxxxxxxxxxxxxxxxxxxxxxxxxxxxxxxxxxxxxxxxxxxxxxxxxxxxxxxxxxxxxxxxxxxxx\n",
            "xxXXXXXXXXXXXXXXXXXXXXXXXXXXXXXXXXXXXXXXXXXXXXXXXXXXXXXXXXXXXXXXXXXXXXXXXXXXXXX\n",
            "Discutir o estatuto atribuido a condição de ser humano...Este é um trabalho sobre as representações de humanidade e de humano na cultura ocidental moderna a partir de um corpus de livros e filmes de ficção científica estadunidense. A comparação com um outro modelo de relação humano-natureza e com uma cosmologia diversa da ocidental contribue para a discussão do estatuto atribuído a condição de ser humano. Essa condição seria um valor disputado no confronto entre os seres humanos e os seres da natureza. Como o processo civilizatório ocidental é marcado pelo individualismo o direito à individualidade é considerado como característica essencial da pessoa. Tanto iluministas quanto românticos defendem a manutenção das características humanas-a humanidade. Ela pode estar associada a racionalidade desenvolvida pela civilização na visão iluminista ou a emotividade que estaria sendo perdida na visão romântica\n",
            "**************************************************************\n",
            "mmmmmmmmmmmmmmmmmmmmmmmmmmmmmmmmmmmmmmmmmmmmmmmmmmmmmmnnnnnnnnnnnnnnnnnnnnnnnnnnnnnnnnnnnnnnnnnnnnnnnn\n",
            "RESUMO:..Este trabalho trata do desenvolvimento de um algoritmo utilizando o conceito de redes neurais para reconstrução de imagens tomográficas. Mostramos que através de uma rede neural parcialmente conectada é  possível reconstruir imagens com mais rapidez e mesma qualidade  utilizando conceitos de tomografia em relação a algoritmos tradicionais. Senogramas referentes a várias seções de imagens de um determinado objeto ..podem ser reconstruídos por uma única rede parcialmente conectada. Esta ..estrutura não precisa ser treinada, sendo baseada na geometria da relação ..entre o espaço de projeção e o espaço da imagem final.\n",
            "*****************************************************************************\n",
            "xxxxxxxxxxxxxxxxxxxxxxxxxxxxxxxxxxxxxxxxxxxxxxxxxxxxxxxxxxxxxxxxxxxxxxxxxxxxxxxxxxx\n",
            "XXXXXXXXXXXXXXXXXXXXXXXXXXXXXXXXXXXXXXXXXXXXXXXXXXXXXXXXXXXXXXXXXXXXXXXXX\n",
            "..........................................................................................\n",
            ".................................................................................................................................................................................................................................................................................................................................................................................................................................................................................................................................................................................................................................................................................................................................................................................................................................................................................................................................................................................................................................................................................................................................... .\n",
            "..........................................................................................................................................................................................................................................................................................................................................................................................\n",
            "Resumo....Representações sociais na manuteção do peso corporal: o que e quem o discurso revela....\n",
            "ÇÇÇÇÇÇÇÇÇÇÇÇÇÇÇÇÇÇÇÇÇÇÇÇÇÇÇÇÇÇÇÇÇÇÇÇÇÇÇÇÇÇÇÇÇÇÇÇÇÇÇÇÇÇÇÇÇÇÇÇÇÇÇÇÇÇÇÇÇÇÇÇÇÇÇÇÇÇÇÇÇÇÇÇÇ\n",
            "xxxxxxxxxxxxxxxxxxxxxxxxxxxxxxxxxxxxxxxxxxxxxxxxxxxxxxxxxxxxxxxxxxxxxxxx\n",
            "xxxxxxxxxx xxxxxxxxxxx xxxxxxxxx xxxxxxxxxxx xxxxxxxx xxxxxxx xxxxxx\n",
            "xxxxxx xxxxxxxx xxxxxxx xxxxxxxxx xxxxxxx xxxxxxxxx x  xxxxxxxxx  xxxxxxx xxxxxxx xxxx   xxxxxxx\n",
            "WWWWWWWWWWWWWWWWWWWWWWWWWWWWWWWWWWWWWWWWWWWWWWWWWWWWWWWWWWWWWWWWWWWWWWWWWWWWWWWWWWWWWWWWWWWWWWWWWWWWWWWWWWWWWWWWWWWWWWWWWWWWWWWWWWWWWWWWWWWWWWWWWWWW\n",
            "hguhafdiojjjpjnpihjds.nOISAjiopkj.bsUIDP\\Z,PO.AMKLjdlkJIOPAS.NBJHGIUYI.BNNBNBBNNB.FGFJDGGHGKJ.YGUYUGYGYUGYUG.TDYITFUTFFTUFUFUY\n",
            "XXXXXXXXXXXXXXXXXXXXXXXXXXXXXXXXXXXXXXXXXXXXXXXXXXXXXXXXXXXXXXXXXXXXXXXXXXXXXXXXXXXXXXXXXXXXXXXXXXXXXXXXXXXXXXXXXXXXXXXXXXXXXXXXXXXXXXXXXXXXXXXXXXXXXXXXXXXXXXXXXXXXXXXXXXXXXXXXXXXXXXXXXXXXXXXXXXXXXXXXXXXXXXXXXXXXXXXXXXXXXXXXXXXXXXXXXXXXXXXXXX\n",
            "XXXXXXXXXXXXXXXXXXXXXXXXXXXXXXXXXXXXXXXXXXXXXXX.XXXXXXXXXXXXXXXXXXXXXXXXXXXXXXXXXXXXXXXXXXXXXXX.XXXXXXXXXXXXXXXXXXXXXXXXXXXXXXXXXXXXXXXXXXXXXXX.XXXXXXXXXXXXXXXXXXXXXXXXXXXXXXXXXXXXXXXXXXXXXXX\n",
            "Encontra-se à disposição no site http://epge.fgv.br/portal/index.html\n",
            "Encontra-se à disposição no site:http://epge.fgv.br/portal/index.html\n",
            "Encontra-se à disposição  no site:http://epge.fgv.br/portal/index.html\n",
            "Encontra-se à disposição no site: http://epge.fgv.br/portal/index.html\n",
            "Encontra-se à disposição nao site: http://epge.fgv.br/portal/index.html\n",
            "Encontra-se a disposição no site http://epge.fgv.br/portal/index.html\n",
            "xxxxxxxxxxxxxxxxxxxxxxxxxxxgggggggggggggggggggggggggggggggggggggggggggggggggggggggggggggggggggggggggggggggggggggggggggggggggggggggggggggggggggggggggggggggggggggggggggggggggggggggggggggggggggggggggggggggggggggggggggggggggggggggggggggggggggggggggggggggggggggggggggggggggggggggggggggggggggggggggggggggggggggggggggggggggggggggggggggggggggggggggggggggggggggggggggggggggggggggggggggggggggggggggggggggggggggggggggggggggggggggggggggggggggggggggggggggggggggggggggggggggggggggggggggggggggggggggggggggggggggggggggggggggggggggggggggggiiiiiiiiiiiiiiiiiiiiiiiiiiiiiiiiiiiiiiiiiiiiiiiiiiiiiiiiiiiiiiiiiiiiiiiiiiiiiiiiiiiiiiiiiiiiiiiiiiiiiiiiiiiiiiiiiiiiiiiiiiiiiiiiiiiiiiiiiiiiiiiiiiiiiiiiiiiiiiiiiiiiiiiiiiiiiiiiiiiiiiiiiiiiiiiiiiiiiiiiiiiiiiiiiiiiiiiiiiiiiiiiiiiiiiiiiiiiiiiiiiiiiiiiiiiiiiiiiiiiiiiiiiiiiiiiiiiiiiiiiiiiiiiiiiiiiiiiiiiiiiiiiiiiiiiiiiiiiiiiiiiiiiiiiiiiiiiiiiiiiiiiiiiiiiiiiiiiiiiiiiiiiiiiiiiiiiiiiiiiiiiiiiiiiiiiiiiiiiiiiiiiiiiiiiiiiiiiiiiiiiiiiiiiiiiiiiiiiiiiiiiiiiiiiiiiiiiiiiiiiiiiiiiiiiiiiiiiiiiiiiiiiiiiiiiiiiiiiiiiiiiiiiiiiiiiiiiiiiiiiiiiiiiiiiiiiiiiiiiiiiiiiiiiiiiiiiiiiiiiiiiiiiiiiiiiiiiiiiiiiiiiiiiiiiiiiiiiiiiiiiiiiiiiiiiiiiiiiiiiiiiiiiiiiiiiiiiiiiiiiiiiiiiiiiiiiiiiiiiiiiiiiiiiiiiiiiiiiiiiiiiiiiiiiiiiiiiiiiiiiiiiiiiiiiiiiiiiiiiiiiiiiiiiiiiiiiiiiiiiiiiiiiiiiiiiiiiiiiiiiiiiiiiiiiiiiiiiiiiiiiiiiiiiiiiiiiiiiiiiiiiiiiiiiiiiiiiiiiiiiiiiiiiiiiiiiiiiiiiiiiiiiiiiiiiiiiiiiiiiiiiiiiiiiiiiiiiiiiiiiiiiiiiiiiiiiiiiiiiiiiiiiiiiiiiiiiiiiiiiiiiiiiiiiiiiiiiiiiiiiiiiiiiiiiiiiiiiiiiiiiiiiiiiiiiiiiiiiiiiiiiiiiiiiiiiiiiiiiiiiiiiiiiiiiiiiiiiiiiiiiiiiiiiiiiiiiiiiiiiiiiiiiiiiiiiiiiiiiiiiiiiiiiiiiiiiiiiiiiiiiiiiiiiiiiiiiiiiiiiiiiiiiiiiiiiiiiiiiiiiiiiiiiiiiiiiiiiiiiiiiiiiiiiiiiiiiiiiiiiiiiiiiiiiiiiiiiiiiiiiiiiiiiiiiiiiiiiiiiiiiiiiiiiiiihhhhhhhhhhhhhhhhhhhhhhhhhhhhhhhhhhhhhhhhhhhhhhhhhhhhhhhhhhhhhhhhhhhhhhhhhhhhhhhhhhhhhhhhhhhhhhhhhhhhhhhhhhhhhhhhhhhhhhhhhhhhhhhhhhhhhhhhhhhhhhhhhhhhhhhhhhhhhhhhhhhhhhhhhhhhhhhhhhhhhhhhhhhhhhhhhhhhhhhhhhhhhhhhhhhhhhhhhhhhhhhhhhhhhhhhhhhhhhhhhhhhhhhhhhhhhhhhhhhhhhhhhhhhhhhhhhhhhhhhhhhhhhhhhhhhhhhhhhhhhhhhhhhhhhhhhhhhhhhhhhhhhhhhhhhhhhhhhhhhhhhhhhhhhhhhhhhhhhhhhhhhhhhhhhhhhhhhhhhhhhhhhhhhhhhhhhhhhhhhhhhhhhhhhhhhhhhhhhhhhhhhhhhhhhhhhhhhhhhhhhhhhhhhhhhhhhhhhhhhhhhhhhhhhhhhhhhhhhhhhhhhhhhhhhhhhhhhhhhhhhhhhhhhhhhhhhhhhhhhhhhhhhhhhhhhhhhhhhhhhhhhhhhhhhhhhhhhhhhhhhhhhhhhhhhhhhhhhhhhhhhhhhhhhhhhhhhhhhhhhhhhhhhhhhhhhhhhhhhhhhhhhhhhhhhhhhhhgggggggggggggggggggggggggggggggggggggggggggggggggggggggggggggggggggggggggggggggggggggggggggggggggggggggggggggggggggggggggggggggggggggggggggggggggggggggggggggggggggggggggggggggggggggggggggggggggggggggggggggggggggggggggggggggggggggggggggggggggggggggggggggggggggggggggggggggggggggggggggggggggggggggggggggggggggggggggggggggggggggggggggggggggggggggggggggggggggggggggggggggggggggggggggggggggggg\n",
            "ccccccccccccccccccccccccccccccccccccccccccccccccccccccccccccccccccccccccccccccccccccccccccccccccccccccccccccccccccccccccccccccccc\n",
            "Resumo..Este trabalho tem como objetivo estudar a construção de uma solução numérica para um problema elítico não linear..Resultados de existência para o problema são desenvolvidos, associados à sua formulação variacional.Nossa proposta é construir soluções aproximadas para o problema no caso em que o dominio é um anel no espaço euclideano para o qual resultados de existência de solução positiva radial já são conhecidos.\n",
            "xxxxxxxxxxxxxxxxxxxxxxxxxxxxxxxxxxxxxxxxxxxxxxxxxxxxxxxxxxxxx\n",
            "Neste trabalho..................................................................................................................................................................................................................................................................................................................................\n",
            "..................................................................................\n",
            "ANÁLISE DE ALTERNATIVAS HIDRODINÂMICAS PARA O SISTEMA.LAGUNAR DA BAIXADA DE JACAREPAGUÁ\n",
            "Resumo..Seleção de protótipos é uma técnica de aprendizagem de máquina em que o.objetivo é a escolha ou produção de instâncias de dados que consigam o.melhor mapeamento para o espaço de busca mantendo a separação entre as.classes. A idéia é reduzir a quantidade de dados e ainda assim obter um.conjunto de protótipos que minimize o erro de classificação. As.estratégias baseadas em protótipos têm sido bastante utilizadas em.aplicações reais nos mais diversos domínios obtendo bons resultados. A.proposta deste.trabalho foi investigar técnicas de seleção de protótipos baseadas em.auto-geração e mistura de gaussianas comparando com algumas técnicas.clássicas. Como resultado deste estudo, um modelo híbrido combinando estas.duas estratégias foi proposto. Este modelo híbrido supera algumas.dificuldades destas técnicas quando analisadas isoladamente combinando a.vantagem da ausência de parâmetros da auto-geração com a maior capacidade.de ajuste às fronteiras de decisão da mistura de gaussianas. O novo modelo.foi avaliado com diversos problemas considerados benchmarks da área de.aprendizagem de máquina apresentando desempenho superior na maioria deles.quando comparado com as técnicas de auto-geração e mistura de gaussianas.analisadas. A segunda parte deste trabalho apresenta um estudo da.aplicação da nova estratégia híbrida ao problema específico de segmentação.de caracteres. Curvas ROC foram utilizadas para avaliar o desempenho e.mais uma vez o modelo híbrido se mostrou superior.\n",
            "resooooooooooooooooooooooooooooooooooooooooooooooooooooooooooooooooooooooooooooooooooooooooooooooooooooooooooooooooooooooooooooooooooooooooooooooooooooo\n",
            "-------------------------------------------------------------\n",
            "mmmmmmmmmmmmmmmmmmmmmmmmmmmmmmmmmmmmmmmmmmmmmmmmmmmmmmmmmmmmmmmmmmmmmmmmmmmmmmmmmmmmmmmmmmmmmmmmmmmmmmmmmmmmmmmmmmmmmmmmmmmmmmmmmmmmmmmmmmmmmmmmmmmmmmmmmmmmmmmmmmmmmmmmmmmmmmmmmmmmmmmmmmmmmmmmmmmmmmmmmmmm\n",
            "mmmmmmmmmmmmmmmmmmmmmmmmmmmmmmmmmmmmmmmmmmmmmmmmmmmmmmmmmmmmmmmmmmmmmmmmmmmmmmmmmmmmmmmmmmmmmmmmmmmmmmmmmmmmmmmmmmmmmmmmmmmmmmmmmmmmmmmmmmmmmmmmmmmmmmmmmmmmmmmmmmmmmmmmmmmmmmmmmmmmmmmmmmmmmmmmmmmmmmmmmmmmmmmmmmmmmmmmmmmmmmmmmmmmmmmmmmmmmmmmmmmmmmmmmmmmmmmmmmmmmmmmmmmmmmmmmmmmmmmmmmmmmmmmmmmmmm\n",
            "zzzzzzzzzzzzzzzzzzzzzzzzzzzzzzzzzzzzzzzzzzzzzzzzzzzzzzzzzzzzzzzzzzzzzzzzzzzzzzzzzzzzzzzzzzzzzzzzzzzzzzzzzzzzzzzzzzzzzzzzzzzzzzzzzzzzzzzzzzzzzzzzzzzzzzzzzzzzzzzzzzzzzzzzzzzzzzzzzzzzzzzzzzzzzzzzzzzzzzzzzzzzzzzzzzzzzzzzzzzzzzzzzzzzzzzzzzzzzzzzzzzzzzzzzzzzzzzzzzzzzzzzzzzzzzzzzzzzzzzzzzzzzzzzzzzzzzzzzzzzzzzzzzzzzzzzzzzzzzzzzzzzzzzzzzzzzzzzzzzzzzzzzzzzzzzzzzzzzzzzzzzzzzzzzzzzzzzzzzz\n",
            "xxxxxxxxxxxxxxxxxxxxxxxxxxxxxxxxxxxxxxxxxxxxxxxxxxxxxxxxxxxxxxxxxxxxxxxxxxxxxxxxxxxxxxxxxxxxxxxxxxxxxxxxxxxxxxxxxxxxxxxxxxxxxxxxxxxxxxxxxxxxxxxxxxxxxxxxxxxxxxxxxxxxxxxxxxxxxxxxxxxxxxxxxxxxxxxxxxxxxxxxxxxxxxxxxx\n",
            "nnnnnnnnnnnnnnnnnnnnnnnnnnnnnnnnnnnnnnnnnnnnnnnnnnnnnnnnnnnnnnnnnnnnnnn\n",
            "mmmmmmmmmmmmmmmmmmmmmmmmmmmmmmmmmmmmmmmmmmmmmmmmmmmmmmmmmmmmmmmmmmmmmmmmmmmmmmmmmmmmmmmmmmmmmmmmmmmmmmmmmmmmmmmmmmmmmmmmmmmmmmmmmmmmmmmmmmmmmmmmmmmmmmmmmmmmmmmmm\n",
            "DDDDDDDDDDDDDDDDDDDDDDDDDDDDDDDDDDDDDDDDDDDDDDDDDDDDDDDDDDDDDDDDDDDDDDDDDDDDDDDDDDDDDDDDDDDDDDDDDDDDDDDDDDDDDDDDDDDDDDDDDDDDDDDDDDDDDDDDDDDDDDDDDDDDDDDDDDDDDDDDDDDDDDDDDDDDDDDDDDDDDDDDDDDDDDDDDDDDDDDDDDDDDDDDDDDDDDDDDDDDDDDDDDDDDDDDDDDDDDD\n",
            "Resumo....Esta Dissertação de Mestrado trata do estudo da estabilidade local e das  bifurcações de Hopf genéricas de uma família de equações diferenciais quadráticas em R3 dependentes de três parâmetros reais negativos. .Essa família é oriunda de outra família a três parâmetros de equações diferenciais escalares quadráticas de terceira ordem. .O estudo da estabilidade dos equilíbrios é feito utilizando-se o critério de estabilidade de Routh-Hurwitz. .Utilizamos ainda este critério para a determinação da superfície de Hopf no espaço de parâmetros. .Calculamos analiticamente as condições de não degenerescência e transversalidade das bifurcações de Hopf genéricas..Aplicamos os resultados obtidos no estudo de um caso particular conhecido em Teoria de Controle como sistema de Lur'e.\n",
            "aaaaaaaaaaaaaaaaaaaaaaaaaaaaaaaaaaaaaaaalllllllllllllllllllllllllllmmmmmmmmmmmmmmmmmmmmmmm\n",
            "xxxxxxxxxxxxxxxxxxxxxxxxxxxxxxxxxxxxxxxxxxxxxxxxxxxxxxxxxxxxxxxxxxxxxxxxxxxxxxxxxxxxxxxxxxxxxxxxxxxxxxxxxxxxxxxxxxxxxxxxxxxxxxxxxxxxxxxxxxxxxxxxxxxxxxxxxxxxxxxxxxxxxxxxxxxxxxxxxxxxxxxxxxxxxxxxxxxxxxxxxxxxxxxxxxxxxxxxxxxxxxxxxxxxxxxxxxxxxxxxxxxxxxxxxxxxxxxxxxxxxxxxxxxxxxxxxxxxxxxxxxxxxxxxxxxxxxxxxxxxxxxxxxxxxxxxxxxxxxxxxxxxxxxxxxxxxxxxxxxxxxxxxxxxxxxxxxxxxxxxxxxxxxxxxxxxxxxxxxxxxxxxxxxxx\n",
            "XXXXXXXXXXXXXXXXXXXXXXXXXXXXXXXXAAAAAAAAAAAAAAAAAAAAAAAAAAAAAAAAAAAAAAAAAAAAA\n",
            "XXXXXXXXXXXXXXXXXXXXXXXXXXXXXXXXXXXXXXXXXXXXXXXXXXXXXXXXXXXXXXXXX\n",
            "XXXXXXXXXXXXXXXXXXXXXXXXXXXXXXXXXXXXXXXXXXXXXXXXXXXXXXXXXXXXXXXXXXXXX\n",
            "Nestetrabalhoaequacaodadispersaodepoluentesatmosfericoseresolvidaem.aeduasdimensoesespaciais.Asdiferentescondicoesdeestabilidadeatmosferica.consideradasatravesdediversasparametrizacoesparaadifusaoturbulentae.elocidadedovento.Saoutilizadastambemdiversascondicoesdefronteira.Os.ultadosobtidosestaodeacordocomosdadosvistosnaliteratura.\n",
            "wwwwwwwwwwwwwwwwwwwwwwwwwwwwwwwwww.wwwwwwwwwwwwwwwwwwwwwwwwwwww\n",
            "Compressor sem Perdas de.Imagens Mamográficas de Alto Desempenho Baseado no Algoritmo PPM\n",
            "xxxxxxxxxxxxxxxxxxxxxxxxxxxxxxxxxxxxxxxxxxxxxxxxxxxxxxxxxxxxxxxxxxxxxxxxxxxxxxxxxxxxxxx\n",
            "kjjjjjjjjjjjjjjjjjjjjjjjjjjjjjjjjjjjjjjjjjjjjjjjjjjjjjjjjjjjjjjjjjjjjjjjjjjjjjjjjjjjjjjjjjjjjjjjjjjjjjjjjjjjjjjjjjjjjjjjjjjjjjjjjjjjjjjjjjjjjjjjj.nhnhgjl,bnç.m,çj,.ç.;n;m,çmn,.çn.mnl,vçbn.bmç.n;~.;~;~;,.lbn,ç~m........................mmmmmmmmmmmmmmmmmmmmmmmmmmmmmmmmmmmmmmmmm.mmmmmmmmmmmmmmmmmmmmmmmmmmmmmmmmmmmmmmmmmmmmmm\n",
            "XXXXXXXXXXXXXXXXXXXXXXXXXXXXXXXXXXXXXXXXXXXXXXXXXXXXXXXXXXXXXXXXXXXXXXXXX\n",
            "mmmmmmmmmmmmmmmmmmmmmmmmmmmmmmmmmmmmmmmmmmmmmmmmmmmmmmmmmmmmmmmmmmmmmmmmmmmmmmmmmmmmmmmmmmmmmmmmmmmmmmmmmmmmmmmmmmmmmmmmmmmmmmmmmmmmmmmmmmmmmm\n",
            "mmmmmmmmmmmmmmmmmmmmmmmmmmmmmmmmmmmmmmmmmmmmmmmmmmmmmmmmmmmmmmmmmmmmmmmmmmmmmmmmmmmmmmmmmmmmmmmmmmmmmmmmmmmmmmmmmmmmmmmmmmmmmmmmmmmmmmmmmmmmmmmmmmmmmmmmmmmmmmmmmmmm\n",
            "mmmmmmmmmmmmmmmmmmmmmmmmmmmmmmmmmmmmmmmmmmmmmmmmmmmmmmmmmmmmmmmmmmmmmmmmmmmmmmmmmmmmmmmmmmmmmmmmmmmmmmmmmmmmmmmmmmmmmmmmmmmmmmmmmmmmmmmmmmmmmmmmmmmmmmmmmmmmmmmmmmmmmmmmmmmmmmmmmmmmmmmmmmmmmmmmmmmmmmmmmmm\n",
            "xxxxxxxxxxxxxxxxxxxxxxxxxxxxxxxxxxxxxxxxxxxxxxxxxxxxxxxxxxxxxxxxxxxxxxxxxxxxxxxxxxxxxxxxxxxxxxxxxxxxxxxxxxxxxxxxxxxxxxxxxxxxxxxxxxxxxxxxxxxxxxxxxxxxxxxxxxxxxxxxxxxxxxxxxxxxxxxxxxxxxxxxxxxxxxxxxxxxxxxxxxxxxxxxxxxxxxxxxxxxxxxxxxxxxxxxxxxxxxxxxxxxxxxxxxxxxxxxxxxxxxxxxxxxxxxxxxxxxxxxxxxxxxxxxxxxxxxxxxxxxxxxxxxxxxxxxxxxxxxxxxxxxxxxxxxxxxxxxxxxxxxxxxxxxxxxxxxxxxxxxxxxx\n",
            "xxxxxxxxxxxxxxxxxxxxxxxxxxxxxxxxxxxxxxxxxxxxxxxxxxxxxxxxxxxxxxxxxxxxxxxxxxxxxxxxxxxxxxxxxxxxxxxxxxxxxxxxxxxxxxxxxxxxxxxxxxxxxxxxxxxxxx\n",
            "XXXXXXXXXXXXXXXXXXXXXXXXXXXXXXXXXXXXXXXXXXXXXXXXXXXXXXXXXXXXX\n",
            "XXXXXXXXXXXXXXXXXXXXXXXXXXXXXXXXXXXXXXXXXXXXXXXXXXXXXXXXXXXXXXXXXX\n",
            "mmmmmmmmmmmmmmmmmmmmmmmmmmmmmmmmmmmmmmmmmmmmmmmmmmmmmmmmmmmmmmmmmmmmmmmmm\n",
            "xxxxxxxxxxxxxxxxxxxxxxxxxxxxxxxxxxxxxxxxxxxxxxxxxxxxxxxxxxxxxxxxxxxxxxxxxxxxxxxxxxxxxxxxxxxxxxxxxxxxxxxxxxxxxxxxxxxxxxxxxxxxxxxxxxxxxxxxxxxxxxxxxxxxxxxxxxxxxxxxxxxxxxxxxxxxxxxxxxxxxxxxxxxxxxxxxxxxxxxxxxxxxxxxxxxxxxxxxxxxxxxxxxxxxxxxxxxxxxxxxxxxxxxxxxxxxxxxxxxxxxxxxxxxxxxxxxxxxxxxxxxxxxxxxxxxxxxxxxxxxxxxxxxxxxxxxxxxxxxxxxxxxxxxxxxxxxxxxxxxxxxxxxxxxxxxxxxxxxxxxxxxxxxx\n",
            "mmmmmmmmmmmmmmmmmmmmmmmmmmmmmmmmmmmmmmmmmmmmmmmmmmmmmmmmmmmmmmmmmmmmmmmmmmmmmmmmmmmmmmmmmmmmmmmmmmmmmmmmmmmmmmmmmmmmmmmmmmmmmmmmmmmmmm\n",
            "EFEITOS DE INTEMPERISMO EM MATERIAL..EXTRATERRESTRE DE DIFERENTES ÁREAS DO DESERTO DE..ATACAMA, CHILE?.\n",
            ".TRABAJO SOCIAL EN COLOMBIA.Una propuesta de renovación desde una crítica marxista\n",
            "XXXXXXXXXXXXXXXXXXXXXXXXXXXXXXXXXXXXXXXXXXXXXXXXXXXXXXXXXXXXXXXXXXXXXXXXXXXXXXXXXXXXXXXXXXXXXXXXXXXXXXXXXXXXXXXXXXXXXXXXXXXXXXXXXXXXXXXXXXXXXXXXXXXXXXXXXXXXXXXXXXXXXXXXXXXXXXXXXXXXXXXXXXXXXXXXXXXXXXXXXXXXXXXXXXXXXXXXXXXXXXXXXXXXXXXXXXXXXXXXXXX\n",
            "vcuobji mlç,.~;.nnnnnnnnnnnnnnnnnnnnnnnnnnnnnnnnnnnnnnnnnnnnnnnnnnnnnnnnnnnnnnnnnnnnnnnnnnnnnnnnnnnnnnnnnnnnnnnnnnnnnnnnnnnnnnnnnnnnnnnnnnnnnnnnnnnnnnnnnnnnnnnnnnnnnnnnnnnnnnnnnnnnnnnnnnnnnnnnnnnnnnnnnnnnnnnnnnnnnnnnnnnnnnnnnnnnnnnnnnnnnnnnnnnnnnnnnnnnnnnnnnnnnnnnnnnnnnnnnnnnnnnnnnnnnnnnnnnnnnnnnnnnnnnnnnnnnnnnnnnnnnnnnnnnnnnnnnnnnnnnnnnnnnnnnnnnnnnnnnnnnnnnnnnnnnnnnnnnnnnnnnnnnnnnnnnnnnnnnnnnnnnnnnnnnnnnnnnnnnnnnnnnnnnnnnnnnnnnnnnnnnnnnnnnnnnnnnnnnnnnnnnnnnnnnnnnnnnnnnnnnnnnnnnnnnnnnnnnnnnnnnnnnnnnnnnnnnnnnnnnnnnnnnnnnnnnnnnnnnnnnnnnnnnnnnnnnnnnnnnnnnnnnnnnnnnnnnnnnnnnnnnnnnnnnnnnnnnnnnnnnnnnnnnnnnnnnnnnnnnnnnnnnnnnnnnnnnnnnnnnnnnnnnnnnnnnnnnnnnnnnnnnnnnnnnnnnnnnnnnnnnnnnnnnnnnnnnnnnnnnnnnnnnnnnnnnnnnnnnnnnnnnnnnnnnnnnnnnnnnnnnnnnnnnnnnnnnnnnnnnnnnnnnnnnnnnnnnnnnnnnnnnnnnnnnnnnnnnnnnnnnnnnnnnnnnnnnnnnnnnnnnnnnnnnnnnnnnnnnnnnnnnnnnnnnnnnnnnnnnnnnnnnnnnnnnnnnnnnnnnnnnnnnnnnnnnnnnnnnnnnnnnnnnnnnnnnnnnnnnnnnnnnnnnnnnnnnnnnnnnnnnnnnnnnnnnnnnnnnnnnnnnnnnnnnnnnnnnnnnnnnnnnnnnnnnnnnnnnnnnnnnnnnnnnnnnnnnnnnnnnnnnnnnnnnnnnnnnnnnnnnnnnnnnnnnnnnnnnnnnnnnnnnnnnnnnnnnnnnnnnnnnnnnnnnnnnnnnnnnnnnnnnnnnnnnnnnnnnnnnnnnnnnnnnnnnnnnnnnnnnnnnnnnnnnnnnnnnnnnnnnnnnnnnnnnnnnnnnnnnnnnnnnnnnnnnnnnnnnnnnnnnnnnnnnnnnnnnnnnnnnnnnnnnnnnnnnnnnnnnnnnnnnnnnnnnnnnnnnnnnnnnnnnnnnnnnnnnnnnnnnnnnnnnnnnnnnnnnnnnnnnnnnnnnnnnnnnnnnnnn\n",
            "SÍNTESE E CARACTERIZAÇÃO DE POLIÓIS VEGETAIS FOSFORADOS.COM POTENCIAL AÇÃO RETARDANTE DE CHAMA EM ESPUMAS DE.POLIURETANOS\n",
            "XXXXXXXXXXXXXXXXXXXXXXXXXXXXXXXXXXXXXXXXXXXXXXXXXXXXXXXXXXXXXXXXXXXXXXXXXXXXXXXXXXXXXXXXXXXXXXXXXXXXXXXXXXXXXXXXXXXXXXXXXXXXXXXXXXXXXXXXXXXXXXXXXXXXXXXXXXXXXXXXXXXXXXXXXXXXXXXXXXXXXXXXXXXXXXXXXXXXXXXXXXXXXXXXXXXXXXXXXXXXXXXXXXXXXXXXXXXXXXXXXXXXXXXXXXXXXXXXXXXXXXXXXXXXXXXXXXXXXXXXXXXXXXXXXXXXXXXXXXXXXXXXXXXXXXXXXXXXXXXXXXXXX\n",
            "XXXXXXXXXXXXXXXXXXXXXXXXXXXXXXXXXXXXXXXXXXXXXXXXXXXXXXXXXXXXXXXXXXXXXXXXXXXXXXXXXXXXXXXXXXXXXXXXXXXXXXXXXXXXXXXXXXXXXXXXXXXXXXXXXXXXXXXXXXXXXXXXXXXXXXXXXXXXXXXXXXXXXXXXXXXXXXXXXXXXXXXXXXXXXXXXXXXXXXXXXXXXXXXXXXXXXXXXXXXXXXXXXXXXXXXXXXXXXXXXXXXXXXXXXXXXXXXXXXXXXXXXXXXXXXXXXXXXXXXXXXXXXXXXXXXXXXXXXXXXXXXXXXXXXXXXXXXXXXXXXXXXXX\n",
            "xvvvvvvvvvvvvvvvvvvvvvvvvvvvvvvvvvvvvvvvvvvvvvvvvvvvvvvvvvvvvvvvvvvvvvvvvvvvvvvvvvvvvvvvvvvvvvvvvvvvvvvvvvvvvvvvvvvvvvvvvvvvvvvvvvvvvvvvvvvvvvvvvvvvvvvvvvvvvvvvvvvvvvvvvvvvvvvvvvvvvvvvvvvvvvvvvvvvvvvvvvvvvvvvvvvvvvvvvvvvv\n",
            "Resumo disponível em formato PDF no link http://www.on.br/conteudo/dppg_e_iniciacao/dppg/neweb_astro/conteudo/teses.html\n",
            "....................................................................................................................\n",
            "XXXXXXXXXXXXXXXXXXXXXXXXXXXXXXXXXXXXXXXXXXXXXXXXXXXXXXXXXXXXXXXXXXXXXXXXXXXXXXXXXXXXXXXXXXXXXXXXXXXXXXXXXXXXXXXXXXXXXXXXXXXXXXXXXXXXXXXXXXXXXXXXXXXXXXXXXXXXXXXXXXXXXXXXXXXXXXXXXXXXXXXXXXXXXXXXXXXXXXXXXXXXXXXXXXXXXXXXXXXXXXXXXXXXXXXXXX\n",
            "XXXXXXXXXXXXXXXXXXXXXXXXXXXXXXXXXXXXXXXXXXXXXXXXXXXXXXXXXXXXXXXXX XXXXXXXXXXXXXXXXXXXXXXXXXXXXXXXXXXXXXXXXXXXXXXXXXXXXXXXXXXXXXXXXX XXXXXXXXXXXXXXXXXXXXXXXXXXXXXXXXXXXXXXXXXXXXXXXXXXXXXXXXXXXXXXXXX\n",
            "XXXXXXXXXXXXXXXXXXXXXXXXXXXXXXXXXXXXXXXXXXXXXXXXXX XXXXXXXXXXXXXXXXXXXXXXXXXXXXXXXXXXXXXXXXXXXXXXXXXX XXXXXXXXXXXXXXXXXXXXXXXXXXXXXXXXXXXXXXXXXXXXXXXXXX\n",
            "OOOOOOOOOOOOOOOOOOOOOOOOOOOOOOOOOOOOOOOOOOOOOOOOOOOOOOOOOOOOOOOOO\n",
            "XXXXXXXXXXXXXXXXXXXXXXXXXXXXXXXXXXXXXXXXXXXXXXXXXXXXXXXXXXXXXXXXXXXXXXXXXXXXXXXXXXXXXXXXXXXXXXXXXXXXXXXXXXXXXXX\n",
            "XXXXXXXXXXXXXXXXXXXXXXXXXXXXXXXXXXXXXXXXXXXXXXXXXXXXXXXXXXXXXXXXXXXXXXXXXXXXXXXXXXXXXXXXXXXXXXXXXXXXXXXXXXXXXXXXXXXXXXXXXXXXXXXXXXXXXXXXXXXXXXXXXXXXXXXXXXXXXXXXXXXXXXXXXXXXXXXXXXXXXXXXXXXXXXXXXXXXXXXXXXXXXXXXXXXXXXXXXXXXXXXXXXXXXXXXXXXXXXXXXXXXXXXXXXXXXXXXXXXXXXXXX\n",
            "..................................................................................\n",
            "XXXXXXXXXXXXXXXXXXXXXXXXXXXXXXXXXXXXXXXXXXXXXXXXXXXXXXXXXXXXXXXXXXXXXXXXXXXXXXXXXXXXXXXXXXXXXXXXXXXXXXXXXXXXXXXXXXXX\n",
            "XXXXXXXXXXXXXXXXXXXXXXXXXXXXXXXXXXXXXXXXXXXXXXXXXXXXXXXXXXXXXXXXXXXXXXXXXXXXXXXXXXXXXXXXXXXXXXXXXXXXXXXXXXXX\n",
            "CARACTERIZAÇÃO BIOLÓGICA DE TRIPOMASTIGOTAS DE T.CRUZI PROVENIENTES DE CÉLULAS DEFICIENTES EM LAMP\n",
            "XXXXXXXXXXXXXXXXXXXXXXXXXXXXXXXXXXXXXXXXXXXXXXXXXXXXXXXXXXXXXXXXXXXXXXXXXXXXXXXXXXXXXXXXXXXXXXXXXXXXXXXXX\n",
            "XXXXXXXXXXXXXXXXXXXXXXXXXXXXXXXXXXXXXXXXXXXXXXXXXXXXXXXXXXXXXXXX\n",
            "NONONONONNONNOONOONNNONNNONONNOOONNONONOOONNONONNONONONONONOONO\n"
          ]
        }
      ]
    },
    {
      "cell_type": "markdown",
      "metadata": {
        "id": "Q41sPIbvI6ug"
      },
      "source": [
        "Acima notamos que a maioria dos resumos formados com caracteres repetidos ou links em sua maioria não continham informações relevantes para nossa análise. Desse modo, optamos por deixar apenas resumos com mais de 50 caracteres."
      ]
    },
    {
      "cell_type": "code",
      "metadata": {
        "colab": {
          "base_uri": "https://localhost:8080/"
        },
        "id": "kaCHe9y2MZG8",
        "outputId": "7636d7b5-4b91-4b95-e63b-9b3b74d06b42"
      },
      "source": [
        "data = data[resumo_sem_repetidos.str.len() > 50]\n",
        "data.info()"
      ],
      "execution_count": 15,
      "outputs": [
        {
          "output_type": "stream",
          "name": "stdout",
          "text": [
            "<class 'pandas.core.frame.DataFrame'>\n",
            "Int64Index: 1219950 entries, 0 to 1235795\n",
            "Data columns (total 7 columns):\n",
            " #   Column                  Non-Null Count    Dtype  \n",
            "---  ------                  --------------    -----  \n",
            " 0   ano_base                1219950 non-null  float64\n",
            " 1   resumo                  1219950 non-null  object \n",
            " 2   nome_grande_area        1219950 non-null  object \n",
            " 3   nome_area_conhecimento  1219950 non-null  object \n",
            " 4   regiao                  1219950 non-null  object \n",
            " 5   sigla_uf                1219950 non-null  object \n",
            " 6   sigla_entidade_ensino   1219950 non-null  object \n",
            "dtypes: float64(1), object(6)\n",
            "memory usage: 74.5+ MB\n"
          ]
        }
      ]
    },
    {
      "cell_type": "markdown",
      "metadata": {
        "id": "x50OcH3L4ObQ"
      },
      "source": [
        "Por fim, removemos as linhas onde o resumo se repete.\n",
        "\n"
      ]
    },
    {
      "cell_type": "code",
      "metadata": {
        "colab": {
          "base_uri": "https://localhost:8080/"
        },
        "id": "YMBGhftn4cqg",
        "outputId": "8898d68a-0449-4bfb-c818-8e0ef559c16b"
      },
      "source": [
        "data = data.drop_duplicates(subset=['resumo'])\n",
        "data.info()"
      ],
      "execution_count": 16,
      "outputs": [
        {
          "output_type": "stream",
          "name": "stdout",
          "text": [
            "<class 'pandas.core.frame.DataFrame'>\n",
            "Int64Index: 1219170 entries, 0 to 1235795\n",
            "Data columns (total 7 columns):\n",
            " #   Column                  Non-Null Count    Dtype  \n",
            "---  ------                  --------------    -----  \n",
            " 0   ano_base                1219170 non-null  float64\n",
            " 1   resumo                  1219170 non-null  object \n",
            " 2   nome_grande_area        1219170 non-null  object \n",
            " 3   nome_area_conhecimento  1219170 non-null  object \n",
            " 4   regiao                  1219170 non-null  object \n",
            " 5   sigla_uf                1219170 non-null  object \n",
            " 6   sigla_entidade_ensino   1219170 non-null  object \n",
            "dtypes: float64(1), object(6)\n",
            "memory usage: 74.4+ MB\n"
          ]
        }
      ]
    },
    {
      "cell_type": "markdown",
      "metadata": {
        "id": "If0jNAADjdmc"
      },
      "source": [
        "## Limpeza nas demais colunas\n",
        "\n",
        "Primeiro verificamos se há inconsistência nas demais colunas do dataset."
      ]
    },
    {
      "cell_type": "code",
      "metadata": {
        "colab": {
          "base_uri": "https://localhost:8080/"
        },
        "id": "VFqSAbWpjnpy",
        "outputId": "bf0dc008-e744-4338-bd8b-3a071d39420d"
      },
      "source": [
        "# Ano\n",
        "data['ano_base'].unique()"
      ],
      "execution_count": 17,
      "outputs": [
        {
          "output_type": "execute_result",
          "data": {
            "text/plain": [
              "array([1987., 1988., 1989., 1990., 1991., 1992., 1993., 1994., 1995.,\n",
              "       1996., 1997., 1998., 1999., 2000., 2001., 2002., 2003., 2004.,\n",
              "       2005., 2006., 2007., 2008., 2009., 2010., 2011., 2012., 2013.,\n",
              "       2014., 2015., 2016., 2017., 2018., 2019.])"
            ]
          },
          "metadata": {},
          "execution_count": 17
        }
      ]
    },
    {
      "cell_type": "code",
      "metadata": {
        "colab": {
          "base_uri": "https://localhost:8080/"
        },
        "id": "gtkGkkOXj1lP",
        "outputId": "5ea8bd8d-8852-4b9f-adb0-12bfdb2e23de"
      },
      "source": [
        "# nome_grande_area\n",
        "data['nome_grande_area'].unique()"
      ],
      "execution_count": 18,
      "outputs": [
        {
          "output_type": "execute_result",
          "data": {
            "text/plain": [
              "array(['CIÊNCIAS HUMANAS', 'CIÊNCIAS SOCIAIS APLICADAS',\n",
              "       'CIÊNCIAS AGRÁRIAS', 'LINGÜÍSTICA, LETRAS E ARTES',\n",
              "       'CIÊNCIAS DA SAÚDE', 'CIÊNCIAS EXATAS E DA TERRA',\n",
              "       'CIÊNCIAS BIOLÓGICAS', 'ENGENHARIAS', 'MULTIDISCIPLINAR'],\n",
              "      dtype=object)"
            ]
          },
          "metadata": {},
          "execution_count": 18
        }
      ]
    },
    {
      "cell_type": "code",
      "metadata": {
        "colab": {
          "base_uri": "https://localhost:8080/"
        },
        "id": "VrKEgNcbj4FK",
        "outputId": "2fe10b7c-bfab-4493-8fc1-506934ea1f58"
      },
      "source": [
        "# nome_grande_area\n",
        "data['nome_area_conhecimento'].unique()"
      ],
      "execution_count": 19,
      "outputs": [
        {
          "output_type": "execute_result",
          "data": {
            "text/plain": [
              "array(['EDUCAÇÃO', 'ADMINISTRAÇÃO PÚBLICA', 'DIREITO',\n",
              "       'CIÊNCIAS CONTÁBEIS', 'ADMINISTRAÇÃO', 'ADMINISTRAÇÃO DE EMPRESAS',\n",
              "       'ADMINISTRAÇÃO DE RECURSOS HUMANOS', 'TEORIA DO DIREITO',\n",
              "       'DIREITO PÚBLICO', 'CIÊNCIA E TECNOLOGIA DE ALIMENTOS',\n",
              "       'MEDICINA VETERINÁRIA', 'ANATOMIA PATOLÓGICA ANIMAL',\n",
              "       'CIÊNCIA DE ALIMENTOS', 'TECNOLOGIA DE ALIMENTOS',\n",
              "       'ENGENHARIA DE ALIMENTOS', 'MEDICINA VETERINÁRIA PREVENTIVA',\n",
              "       'CLÍNICA VETERINÁRIA', 'ARQUITETURA E URBANISMO',\n",
              "       'BIBLIOTECONOMIA', 'COMUNICAÇÃO', 'PLANEJAMENTO URBANO E REGIONAL',\n",
              "       'FUNDAMENTOS DO PLANEJAMENTO URBANO E REGIONAL', 'DEMOGRAFIA',\n",
              "       'ECONOMIA AGRÁRIA', 'ECONOMIA', 'CIÊNCIA DA INFORMAÇÃO',\n",
              "       'SERVIÇO SOCIAL', 'FUNDAMENTOS DO SERVIÇO SOCIAL',\n",
              "       'ECONOMIAS AGRÁRIA E DOS RECURSOS NATURAIS',\n",
              "       'ECONOMIA DOS RECURSOS HUMANOS',\n",
              "       'CRESCIMENTO, FLUTUAÇÕES E PLANEJAMENTO ECONÔMICO',\n",
              "       'EDUCAÇÃO ESPECIAL', 'TRATAMENTO E PREVENÇÃO PSICOLÓGICA',\n",
              "       'PSICOLOGIA', 'GEOGRAFIA', 'ANTROPOLOGIA', 'LETRAS', 'CIRURGIA',\n",
              "       'OFTALMOLOGIA', 'GINECOLOGIA E OBSTETRÍCIA', 'ORTOPEDIA',\n",
              "       'CIRURGIA OTORRINOLARINGOLOGIA', 'CIRURGIA UROLÓGICA',\n",
              "       'ODONTOLOGIA', 'CIRURGIA BUCO-MAXILO-FACIAL',\n",
              "       'CLÍNICA ODONTOLÓGICA', 'ODONTOPEDIATRIA',\n",
              "       'ODONTOLOGIA SOCIAL E PREVENTIVA', 'MATERIAIS ODONTOLÓGICOS',\n",
              "       'ORTODONTIA', 'PERIODONTIA', 'RADIOLOGIA ODONTOLÓGICA',\n",
              "       'ENDODONTIA', 'PEDIATRIA', 'DOENÇAS INFECCIOSAS E PARASITÁRIAS',\n",
              "       'REUMATOLOGIA', 'RADIOLOGIA MÉDICA', 'NEUROLOGIA',\n",
              "       'ANATOMIA PATOLÓGICA E PATOLOGIA CLÍNICA', 'PSIQUIATRIA',\n",
              "       'HEMATOLOGIA', 'SAÚDE PÚBLICA', 'SAÚDE COLETIVA',\n",
              "       'MEDICINA PREVENTIVA', 'EDUCAÇÃO FÍSICA', 'FONOAUDIOLOGIA',\n",
              "       'ZOOTECNIA', 'PRODUÇÃO ANIMAL',\n",
              "       'GENÉTICA E MELHORAMENTO DOS ANIMAIS DOMÉSTICOS',\n",
              "       'ANÁLISE TOXICOLÓGICA', 'FARMÁCIA', 'ENFERMAGEM PEDIÁTRICA',\n",
              "       'ENFERMAGEM', 'ENFERMAGEM OBSTÉTRICA', 'FITOTECNIA',\n",
              "       'CIÊNCIA DO SOLO', 'AGRONOMIA', 'MANEJO E CONSERVAÇÃO DO SOLO',\n",
              "       'MANEJO FLORESTAL', 'MICROBIOLOGIA AGRÍCOLA',\n",
              "       'IRRIGAÇÃO E DRENAGEM', 'FITOPATOLOGIA', 'FITOSSANIDADE',\n",
              "       'RECURSOS FLORESTAIS E ENGENHARIA FLORESTAL', 'EXTENSÃO RURAL',\n",
              "       'ENGENHARIA AGRÍCOLA', 'LINGÜÍSTICA APLICADA', 'TEORIA LITERARIA',\n",
              "       'LÍNGUA PORTUGUESA', 'AGROMETEROLOGIA', 'MELHORAMENTO VEGETAL',\n",
              "       'LINGÜÍSTICA', 'OUTRAS LITERATURAS VERNÁCULAS',\n",
              "       'LÍNGUAS ESTRANGEIRAS MODERNAS', 'LITERATURA BRASILEIRA',\n",
              "       'HISTÓRIA', 'LITERATURAS ESTRANGEIRAS MODERNAS', 'TEOLOGIA',\n",
              "       'NUTRIÇÃO', 'GEOGRAFIA HUMANA', 'PSICOLOGIA SOCIAL',\n",
              "       'PSICOLOGIA COGNITIVA', 'PSICOLOGIA EXPERIMENTAL',\n",
              "       'ANTROPOLOGIA URBANA', 'SOCIOLOGIA RURAL', 'SOCIOLOGIA',\n",
              "       'OUTRAS SOCIOLOGIAS ESPECÍFICAS', 'SOCIOLOGIA DO DESENVOLVIMENTO',\n",
              "       'FILOSOFIA', 'CIÊNCIA POLÍTICA', 'COMPORTAMENTO POLÍTICO',\n",
              "       'POLÍTICA INTERNACIONAL', 'HISTÓRIA DO BRASIL',\n",
              "       'PLANEJAMENTO EDUCACIONAL', 'EDUCAÇÃO DE ADULTOS', 'GEOCIÊNCIAS',\n",
              "       'SENSORIAMENTO REMOTO', 'GEOLOGIA', 'GEOFÍSICA', 'GEODÉSIA',\n",
              "       'GEOQUÍMICA', 'GENÉTICA', 'TAXONOMIA DE CRIPTÓGAMOS',\n",
              "       'OCEANOGRAFIA BIOLÓGICA', 'BOTÂNICA', 'BIOQUÍMICA', 'FISIOLOGIA',\n",
              "       'HISTOLOGIA', 'QUÍMICA', 'FÍSICO-QUÍMICA', 'QUÍMICA ANALÍTICA',\n",
              "       'QUÍMICA ORGÂNICA', 'METEOROLOGIA', 'ZOOLOGIA', 'ECOLOGIA',\n",
              "       'BIOLOGIA GERAL', 'MATEMÁTICA', 'MATEMÁTICA APLICADA',\n",
              "       'ESTATÍSTICA', 'PROBABILIDADE E ESTATÍSTICA',\n",
              "       'CIÊNCIA DA COMPUTAÇÃO', 'SISTEMA DE COMPUTAÇÃO',\n",
              "       'PROBABILIDADE E ESTATÍSTICA APLICADAS', 'ASTRONOMIA', 'FÍSICA',\n",
              "       'POLÍMEROS E COLÓIDES', 'QUÍMICA DOS PRODUTOS NATURAIS',\n",
              "       'QUÍMICA INORGÂNICA', 'FÍSICA DA MATÉRIA CONDENSADA',\n",
              "       'ENGENHARIA DE PRODUÇÃO', 'ENGENHARIA MECÂNICA',\n",
              "       'ENGENHARIA ELÉTRICA', 'ENGENHARIA BIOMÉDICA', 'GASTROENTEROLOGIA',\n",
              "       'NEFROLOGIA', 'PNEUMOLOGIA', 'SISTEMAS ELÉTRICOS DE POTÊNCIA',\n",
              "       'ENGENHARIA NAVAL E OCEÂNICA',\n",
              "       'ENGENHARIA DE MATERIAIS E METALÚRGICA',\n",
              "       'ESTRUTURAS NAVAIS E OCEÂNICAS', 'DERMATOLOGIA', 'ENDOCRINOLOGIA',\n",
              "       'CARDIOLOGIA', 'CLÍNICA MÉDICA', 'FISIATRIA', 'FARMACOLOGIA',\n",
              "       'MEDICINA', 'ENGENHARIA NUCLEAR', 'BIOFÍSICA', 'ANATOMIA',\n",
              "       'ENGENHARIA CIVIL', 'ESTRUTURAS', 'GEOTÉCNICA',\n",
              "       'ENGENHARIA DE TRANSPORTES', 'ENGENHARIA QUÍMICA', 'MICROBIOLOGIA',\n",
              "       'IMUNOLOGIA', 'PARASITOLOGIA', 'BIOLOGIA MOLECULAR', 'MORFOLOGIA',\n",
              "       'ANATOMIA HUMANA', 'PROCESSOS BIOQUÍMICOS', 'ENGENHARIA DE MINAS',\n",
              "       'MÚSICA', 'FUNDAMENTOS E CRÍTICA DAS ARTES', 'ARTES',\n",
              "       'ENGENHARIA SANITÁRIA', 'CIRURGIA OFTALMOLÓGICA',\n",
              "       'ALERGOLOGIA E IMUNOLOGIA CLÍNICA', 'ENGENHARIA AEROESPACIAL',\n",
              "       'PSICOBIOLOGIA', 'PSICOLOGIA DO ENSINO E DA APRENDIZAGEM',\n",
              "       'GEOGRAFIA AGRÁRIA', 'EPISTEMOLOGIA',\n",
              "       'NUTRIÇÃO E ALIMENTAÇÃO ANIMAL', 'DIREITOS ESPECIAIS',\n",
              "       'HISTÓRIA LATINO-AMERICANA', 'FISIOLOGIA VEGETAL',\n",
              "       'ENGENHARIA HIDRÁULICA', 'CITOLOGIA E BIOLOGIA CELULAR',\n",
              "       'VALOR NUTRITIVO DE ALIMENTOS', 'ENGENHARIA DE ÁGUA E SOLO',\n",
              "       'PSICOLOGIA DO DESENVOLVIMENTO HUMANO',\n",
              "       'RELAÇÕES INTERNACIONAIS, BILATERAIS E MULTILATERAIS',\n",
              "       'NEUROPSICOFARMACOLOGIA',\n",
              "       'RECURSOS PESQUEIROS E ENGENHARIA DE PESCA', 'ENSINO-APRENDIZAGEM',\n",
              "       'TECNOLOGIA DE ARQUITETURA E URBANISMO', 'INTERDISCIPLINAR',\n",
              "       'EPIDEMIOLOGIA', 'ANESTESIOLOGIA', 'CANCEROLOGIA', 'OCEANOGRAFIA',\n",
              "       'HISTÓRIA DA ARTE', 'TEORIA DA COMUNICAÇÃO', 'PATOLOGIA ANIMAL',\n",
              "       'TELECOMUNICAÇÕES', 'CIRURGIA GASTROENTEROLOGICA',\n",
              "       'DESENHO INDUSTRIAL', 'FISIOTERAPIA E TERAPIA OCUPACIONAL',\n",
              "       'ENSINO', 'TURISMO', 'ARQUEOLOGIA', 'BIOTECNOLOGIA', 'MATERIAIS',\n",
              "       'MEIO AMBIENTE E AGRÁRIAS', 'SOCIAIS E HUMANIDADES',\n",
              "       'ENGENHARIA/TECNOLOGIA/GESTÃO', 'DANÇA',\n",
              "       'ENSINO DE CIÊNCIAS E MATEMÁTICA', 'SAÚDE MATERNO-INFANTIL',\n",
              "       'HISTÓRIA REGIONAL DO BRASIL', 'PSICOLINGUÍSTICA',\n",
              "       'OPERAÇÕES CARACTERÍSTICAS DE PROCESSOS BIOQUÍMICOS',\n",
              "       'SAÚDE E BIOLÓGICAS', 'ENGENHARIA DE SOFTWARE',\n",
              "       'GEOGRAFIA REGIONAL', 'CONSERVAÇÃO DAS ESPÉCIES ANIMAIS',\n",
              "       'ECONOMIA REGIONAL', 'PROCESSOS INDUSTRIAIS DE ENGENHARIA QUÍMICA',\n",
              "       'EDUCAÇÃO EM PERIFERIAS URBANAS',\n",
              "       'GARANTIA DE CONTROLE DE QUALIDADE', 'TEORIA ECONÔMICA',\n",
              "       'MUSEOLOGIA', 'PESQUISA OPERACIONAL',\n",
              "       'QUALIDADE DO AR, DAS ÁGUAS E DO SOLO', 'POLÍMEROS,  APLICAÇÕES',\n",
              "       'TELEINFORMÁTICA', 'ECOLOGIA DE ECOSSISTEMAS',\n",
              "       'DIREITO PROCESSUAL CIVIL', 'ENSINO PROFISSIONALIZANTE',\n",
              "       'HISTÓRIA ECONÔMICA', 'PRODUÇÃO E BENEFICIAMENTO DE SEMENTES',\n",
              "       'SANEAMENTO AMBIENTAL', 'CIRURGIA EXPERIMENTAL',\n",
              "       'CONSTRUÇÃO CIVIL', 'LITERATURA COMPARADA',\n",
              "       'PLANEJAMENTO E ORGANIZAÇÃO DO SISTEMA DE TRANSPORTE',\n",
              "       'DIREITO CONSTITUCIONAL',\n",
              "       'INSTRUMENTAÇÃO PARA MEDIDA E CONTROLE DE RADIAÇÃO',\n",
              "       'REPRODUÇÃO ANIMAL', 'FARMACOLOGIA BIOQUIMICA E MOLECULAR',\n",
              "       'ZOOLOGIA APLICADA',\n",
              "       'FÍSICA CLÁSSICA E FÍSICA QUÂNTICA; MECÂNICA E CAMPOS',\n",
              "       'APROVEITAMENTO DA ENERGIA', 'MODELAGEM DE SISTEMAS BIOLÓGICOS',\n",
              "       'CONSERVAÇÃO DA NATUREZA',\n",
              "       'AUTOMAÇÃO ELETRÔNICA DE PROCESSOS ELÉTRICOS E INDUSTRIAIS',\n",
              "       'TEATRO', 'TAXONOMIA DOS GRUPOS RECENTES', 'AQUICULTURA',\n",
              "       'NEUROFISIOLOGIA', 'MICROBIOLOGIA APLICADA',\n",
              "       'TECNOLOGIA DE CELULOSE E PAPEL',\n",
              "       'ENGENHARIA DE PROCESSAMENTO DE PRODUTOS AGRÍCOLAS',\n",
              "       'SISTEMAS DE TELECOMUNICAÇÕES', 'CIÊNCIAS AMBIENTAIS',\n",
              "       'ECONOMIA DOMÉSTICA'], dtype=object)"
            ]
          },
          "metadata": {},
          "execution_count": 19
        }
      ]
    },
    {
      "cell_type": "code",
      "metadata": {
        "colab": {
          "base_uri": "https://localhost:8080/"
        },
        "id": "YZMsK--ij8aL",
        "outputId": "3d0fc8b6-fc94-494b-e542-3800e23f69e6"
      },
      "source": [
        "# regiao\n",
        "data['regiao'].unique()"
      ],
      "execution_count": 20,
      "outputs": [
        {
          "output_type": "execute_result",
          "data": {
            "text/plain": [
              "array(['SUDESTE', 'NORDESTE', 'CENTRO-OESTE', 'SUL', 'NORTE'],\n",
              "      dtype=object)"
            ]
          },
          "metadata": {},
          "execution_count": 20
        }
      ]
    },
    {
      "cell_type": "code",
      "metadata": {
        "colab": {
          "base_uri": "https://localhost:8080/"
        },
        "id": "QDPrlCVQkNsm",
        "outputId": "4a14cc11-6be4-4c99-86eb-9bf6b29be54e"
      },
      "source": [
        "# sigla_uf\n",
        "data['sigla_uf'].unique()"
      ],
      "execution_count": 21,
      "outputs": [
        {
          "output_type": "execute_result",
          "data": {
            "text/plain": [
              "array(['SP', 'BA', 'PE', 'RJ', 'MG', 'DF', 'RS', 'PB', 'RN', 'SC', 'CE',\n",
              "       'PR', 'AM', 'GO', 'PA', 'ES', 'SE', 'MS', 'AL', 'MT', 'PI', 'MA',\n",
              "       'RO', 'AC', 'TO', 'RR', 'AP'], dtype=object)"
            ]
          },
          "metadata": {},
          "execution_count": 21
        }
      ]
    },
    {
      "cell_type": "code",
      "metadata": {
        "colab": {
          "base_uri": "https://localhost:8080/"
        },
        "id": "G8j7o0KK58AV",
        "outputId": "6ba316d5-8cef-4bd0-ddb5-980e4e905490"
      },
      "source": [
        "# sigla_uf\n",
        "data['sigla_entidade_ensino'].unique()"
      ],
      "execution_count": 22,
      "outputs": [
        {
          "output_type": "execute_result",
          "data": {
            "text/plain": [
              "array(['PUC/SP', 'UFBA', 'UFRPE', 'USP', 'UFPE', 'FGV/RJ', 'UFLA',\n",
              "       'FGV/SP', 'UMESP', 'UNB', 'UFRGS', 'UFMG', 'PUC-RIO', 'UFRJ',\n",
              "       'UFPB-JP', 'UFRN', 'UFSC', 'UFC', 'UFPR', 'UGF', 'UFV', 'UFSM',\n",
              "       'UFPEL', 'UFF', 'UFRRJ', 'UNICAMP', 'UEL', 'USP/ESALQ',\n",
              "       'UNESP/BOT', 'USP/SC', 'PUCCAMP', 'UFPB/C.G.', 'UERJ', 'UFSCAR',\n",
              "       'UNIFESP', 'USP/RP', 'FCMSCSP', 'UNESP/ARAR', 'UNESP/ARAÇ',\n",
              "       'USP/FOB', 'PUC/RS', 'UNICAMP/PI', 'UPE', 'FIOCRUZ', 'UNESP/JAB',\n",
              "       'UFPB/AREIA', 'UNIRIO', 'INPA', 'UNESP-SJRP', 'UNESP/ASS', 'UFG',\n",
              "       'UNESP-RC', 'UFPA', 'UFJF', 'UNIMEP', 'UFES', 'UFAM', 'INPE',\n",
              "       'UFOP', 'FURG', 'UEM', 'IME', 'IMPA', 'CBPF', 'ON', 'IFT/UNESP',\n",
              "       'ITA', 'UFU', 'FEI', 'UNIFEI', 'UNESP/GUAR', 'FUC', 'CBM', 'FUFSE',\n",
              "       'UCP/RJ', 'CUSC', 'UNESP/FR', 'EST', 'UFTM', 'UTFPR', 'UFCSPA',\n",
              "       'UFRA', 'UNESP/SJC', 'IUPERJ', 'UNAERP', 'UFERSA', 'USP/CENA',\n",
              "       'FAENQUIL', 'IAMSPE', 'UNESP-PP', 'UFMS', 'UNESP/MAR', 'UFAL',\n",
              "       'UNISINOS', 'UNESP', 'IBEPEGE', 'FCSFA', 'CEFET/MG', 'UFMT',\n",
              "       'PUC/MG', 'UECE', 'HOSPHEL', 'FAMERP', 'USU', 'UPM', 'FCL',\n",
              "       'UNESP-BAUR', 'FAJE', 'UNICENTRO', 'PUC/PR', 'FURB', 'HJ', 'FEPAR',\n",
              "       'UNESP-IS', 'UNITAU', 'UNICASTELO', 'UNIP', 'FUFPI', 'CEFET/RJ',\n",
              "       'IMIP', 'UNIVERSO', 'UCB/RJ', 'UCB', 'UNIJUÍ', 'UCS', 'UENF',\n",
              "       'UNISC', 'UFMA', 'USS', 'SBI', 'UFVJM', 'UDESC', 'NESC/CPQAM',\n",
              "       'UNIVAP', 'UERN', 'UNIVALI', 'FUPF', 'FJP', 'UNIOESTE', 'UNIFOR',\n",
              "       'APS', 'ULBRA', 'UEFS', 'FAP', 'UTP', 'UNIFRAN', 'UNIG', 'IPT',\n",
              "       'UNESA', 'IPEN', 'USC', 'USF', 'UNICID', 'USM', 'UNICAP', 'UCPEL',\n",
              "       'ITE', 'ENCE', 'UCAM', 'FDC', 'FDMC', 'UNIMES', 'UNIFECAP', 'FVC',\n",
              "       'UNI-FACEF', 'PUC-GOIÁS', 'UNINOVE', 'UEPG', 'UNIFACS', 'UESC',\n",
              "       'SCMBH', 'EBMSP', 'UNIMAR', 'UFCG', 'INATEL', 'CCD/SES', 'UNISA',\n",
              "       'SLMANDIC', 'UNIR', 'UNIVILLE', 'UNIDERP', 'UCDB', 'UEMA', 'IRBR',\n",
              "       'UNIFAI', 'UNITRI', 'UNIAN-SP', 'FACECA', 'IBMEC', 'FPL', 'UNAMA',\n",
              "       'UNIPAR', 'IAC', 'FEESR', 'UNIGRANRIO', 'FMABC', 'UEA',\n",
              "       'UNIARARAS', 'UMC', 'UENP', 'UNISANTOS', 'FJN', 'USCS', 'UESB',\n",
              "       'UNEB', 'UNOESTE', 'UNIUBE', 'UNISO', 'UNIARA', 'UFSJ', 'LNCC',\n",
              "       'IRD', 'UNESC', 'CES/JF', 'UFAC', 'IBT', 'UVA', 'URI', 'FDV',\n",
              "       'UNIFENAS', 'UNINCOR', 'CUML', 'UFT', 'UNEC', 'CEETEPS', 'UNIFIEO',\n",
              "       'UAM', 'FEAD', 'FUCAPE', 'UNICEUB', 'CDTN', 'IPSEMG', 'CPQRR',\n",
              "       'UNOPAR', 'UNICSUL', 'UNG', 'UBC', 'UCSAL', 'SENACSP', 'UNISUL',\n",
              "       'USJT', 'JBRJ', 'IEN', 'INCA', 'UNILESTE', 'UNA', 'UNIMONTES',\n",
              "       'ITEP', 'FBV', 'UFRB', 'UNP', 'UNIFAE-SC', 'UP', 'UNICESUMAR',\n",
              "       'UNICURITIB', 'LACTEC', 'INSPER', 'UNITOLEDO', 'IP', 'UNISAL',\n",
              "       'FASM', 'CEUN-IMT', 'UFGD', 'FEEVALE', 'UNIFRA', 'FESURV', 'UNIB',\n",
              "       'UFRR', 'FADISP', 'UNIEURO', 'UNOCHAPECÓ', 'UNIT-SE', 'UEPA',\n",
              "       'IFMA/MC', 'UEPB', 'UNIFAL', 'FUMEC', 'FNH', 'UNIPLI', 'CESAR',\n",
              "       'UNIFAP', 'UNINILTON', 'UVA-CE', 'IFF', 'CPQGM', 'FMU', 'ESPM',\n",
              "       'USP/EEL', 'IDP', 'UPIS', 'IPA', 'UNEMAT', 'UNIVATES',\n",
              "       'UNILASALLE', 'UEG', 'UNIEVANGÉL', 'CEBELA', 'DIREITORIO',\n",
              "       'UNISUAM', 'INPI', 'UNIVALE', 'UNIANDRADE', 'UNC', 'UNOESC', 'IST',\n",
              "       'URCA', 'IFCE', 'UVV', 'FAACZ', 'CIMATEC', 'FTC', 'UNIVASF',\n",
              "       'CESGRANRIO', 'IFRJ', 'UNIFOA', 'UNI-BH', 'ALFA', 'UNIRITTER',\n",
              "       'UNIBRASIL', 'FPP', 'UNICEUMA', 'FEB', 'UFABC', 'IBSP', 'IPÊ',\n",
              "       'EESP/FGV', 'FSB', 'SBFIS', 'IZ/APTA', 'FGV DIREIT', 'UNILUS',\n",
              "       'UNICAMP/LI', 'IFGOIANO', 'UEMS', 'ILAPEO', 'UNINGÁ', 'UNIPAC',\n",
              "       'UNIVAS', 'EMESCAM', 'IFES', 'INMETRO', 'UFOPA', 'IFSC',\n",
              "       'UNIPLAC/SC', 'IFSP', 'EAESP/FGV', 'UNIFAE-SP', 'FUNDECITRU',\n",
              "       'FACCAMP', 'IEPSC', 'UEMG', 'FUV', 'UNISANTA', 'FMJ', 'IBU',\n",
              "       'UNIPAMPA', 'FDSM', 'ESDHC', 'IPHAN', 'UNESP/BAU', 'UFPB/J.P.',\n",
              "       'UNESP/SJRP', 'FESP/UPE', 'UNESP/IS', 'IFSUL', 'UNESP/RC',\n",
              "       'UNESP/PP', 'UNICURITIBA', 'UNIEVANGELICA', 'FAMEMA', 'UNISOCIESC',\n",
              "       'ECEME', 'UNIC', 'FEPECS', 'INC', 'FCMSCSP-TI', 'HCB', 'FPS',\n",
              "       'FUNDACENTR', 'INESP', 'CRH/SES-SP', 'UNIFAE-PR', 'UNINOVAFAPI',\n",
              "       'IFPI', 'UFPB/RT', 'UESPI', 'IFTM', 'UI', 'UNICRUZ', 'CPII',\n",
              "       'CEFOR', 'CESMAC', 'IFG', 'IEC', 'UNIFA', 'IEP', 'CESUPA', 'UERR',\n",
              "       'IFPB', 'IFMT', 'FSCMPA', 'UFOB', 'UFFS', 'UEZO', 'FGV DIREITO SP',\n",
              "       'UNIFESSPA', 'IFSUDESTEMG', 'UNESPAR', 'INTO', 'ISAE', 'UFCA',\n",
              "       'UNIPÊ', 'IPEA', 'HCPA', 'IFPA', 'UNASP', 'UNILA', 'UNESP/SOR',\n",
              "       'EGN', 'UNESP/TUPÃ', 'IFPE', 'SBIBAE', 'IFAM', 'ITV DS', 'FAMAM',\n",
              "       'IFRN', 'FFIA', 'IAPAR', 'IMED', 'FACCAT-RS', 'FTBP', 'FESP',\n",
              "       'FACEPD', 'PARADIGMA', 'FPT', 'IFMG', 'FEPAGRO', 'INTA', 'UNILAB',\n",
              "       'IETEC', 'FCMMG', 'UNIFEMM', 'UNICHRISTUS', 'IFBAIANO', 'UNINTER',\n",
              "       'FIAMFAAM', 'IEPASD', 'UNESP-MAR', 'UNESP-ASSIS', 'FABAPAR',\n",
              "       'UNESP-ARAR', 'UNIARP', 'UNESP-JAB', 'FIOCRUZ-NESC/CPQAM',\n",
              "       'UNIVBRASIL', 'UNESP-BOT', 'UNESP-GUAR', 'UNESP-ARAÇ',\n",
              "       'UNESP-REITORIA', 'FUCAPE-RJ', 'FACENE', 'FG', 'UNESP-FR',\n",
              "       'UNINTA', 'UNESP-BAURU', 'FMP', 'UFSC - ARARANGUA', 'UNIALFA',\n",
              "       'UNIT/ALAGOAS', 'UNIFATEA', 'FTC-SSA', 'MPEG', 'IFRS',\n",
              "       'UNIVERITAS UNG', 'UDF', 'FGV - DIREITO SP', 'UNESP-SOR',\n",
              "       'FIPECAFI', 'UNIFACCAMP', 'UNESP-TUPÃ', 'UNESP-SJC', 'UNESP-SV',\n",
              "       'FIOCRUZ-EGS BRASÍLIA', 'UNESP-IFT', 'FADIC', 'MAST',\n",
              "       'FIOCRUZ-CPQGM', 'FIOCRUZ-CPQLMD', 'FIOCRUZ-CPQRR', 'FACVEST',\n",
              "       'IFS', 'FICSAE', 'UNIHORIZONTES', 'GHC', 'EDUCATIE', 'ITAL',\n",
              "       'UNI7', 'IFSULDEMINAS', 'UFPB-RT', 'UNICARIOCA', 'UFN',\n",
              "       'IFPI-FLORIANO', 'FCRB', 'IFBA', 'IFC', 'IFPR', 'ENAP', 'FHO',\n",
              "       'CESAR-AM', 'IEAPM', 'HUJM', 'USP/EACH', 'FEPECS-ESCS',\n",
              "       'FUCAPE-MA', 'UNIVEM', 'IFMA - MC', 'UNIFBV-WYDEN', 'UNIFG',\n",
              "       'UEMS/DOURADOS', 'UNEMAT-SNP', 'UERGS', 'IPVDF', 'UFSC - BLUMENAU',\n",
              "       'UTFPR-MD', 'UFRGS-LITORAL', 'ITV MI', 'CEFET-MG', 'FADIP', 'ESCH',\n",
              "       'IDOR', 'IFFARROUP', 'UFSB', 'UFJF-GV', 'UNESPAR-REITORIA',\n",
              "       'UNIFG-FG', 'UFPA - ABAETETUBA', 'IFAL', 'UNEMAT-SINOP', 'UNIRV',\n",
              "       'FIOCRUZ-CE', 'SENAI-CIMATEC', 'IESB', 'IFNMG', 'UNEAL',\n",
              "       'FIOCRUZ-MS', 'FEBASP', 'UFRRJ/NI', 'UNCISAL'], dtype=object)"
            ]
          },
          "metadata": {},
          "execution_count": 22
        }
      ]
    },
    {
      "cell_type": "markdown",
      "metadata": {
        "id": "Mp_DHIbI6BSl"
      },
      "source": [
        "## Salvando dados\n",
        "Como não encontramos inconsistências nas demais colunas finalizamos a nossa análise e portanto salvamos o novo conjunto de dados."
      ]
    },
    {
      "cell_type": "code",
      "metadata": {
        "id": "GaGUB4_06Ibf"
      },
      "source": [
        "#@title Pasta do Google Drive \n",
        "#@markdown Inclua o caminho da pasta onde você deseja salvar os dados.\n",
        "destination = \"/content/drive/MyDrive/AcademicAI/catalogo-de-teses-e-dissertacoes/\" #@param {type:\"string\"}\n",
        "\n",
        "data.to_csv(f'{os.path.join(destination, \"teses-dissertacoes-cleaned.csv\")}', index=False)\n"
      ],
      "execution_count": 23,
      "outputs": []
    }
  ]
}